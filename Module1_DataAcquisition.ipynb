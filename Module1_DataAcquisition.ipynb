{
  "nbformat": 4,
  "nbformat_minor": 0,
  "metadata": {
    "colab": {
      "name": "Module1_DataAcquisition.ipynb",
      "provenance": [],
      "include_colab_link": true
    },
    "kernelspec": {
      "name": "python3",
      "display_name": "Python 3"
    }
  },
  "cells": [
    {
      "cell_type": "markdown",
      "metadata": {
        "id": "view-in-github",
        "colab_type": "text"
      },
      "source": [
        "<a href=\"https://colab.research.google.com/github/Bhairavi-shah/AbstractiveUserReviewConsolidation/blob/master/Module1_DataAcquisition.ipynb\" target=\"_parent\"><img src=\"https://colab.research.google.com/assets/colab-badge.svg\" alt=\"Open In Colab\"/></a>"
      ]
    },
    {
      "cell_type": "code",
      "metadata": {
        "id": "uGzePb4BwF3h",
        "colab_type": "code",
        "outputId": "cc0469e7-2eef-4679-b037-74a13b1997dd",
        "colab": {
          "base_uri": "https://localhost:8080/",
          "height": 179
        }
      },
      "source": [
        "from google.colab import drive\n",
        "drive.mount('/content/gdrive')\n",
        "\n",
        "import pandas as pd\n",
        "df = pd.read_csv(r\"/content/gdrive/My Drive/PROJECT | S7-S8/Data/Reviews.csv\", nrows=100000)\n",
        "print(df.head())"
      ],
      "execution_count": 0,
      "outputs": [
        {
          "output_type": "stream",
          "text": [
            "Drive already mounted at /content/gdrive; to attempt to forcibly remount, call drive.mount(\"/content/gdrive\", force_remount=True).\n",
            "   Id  ...                                               Text\n",
            "0   1  ...  I have bought several of the Vitality canned d...\n",
            "1   2  ...  Product arrived labeled as Jumbo Salted Peanut...\n",
            "2   3  ...  This is a confection that has been around a fe...\n",
            "3   4  ...  If you are looking for the secret ingredient i...\n",
            "4   5  ...  Great taffy at a great price.  There was a wid...\n",
            "\n",
            "[5 rows x 10 columns]\n"
          ],
          "name": "stdout"
        }
      ]
    },
    {
      "cell_type": "code",
      "metadata": {
        "id": "OU_2mjyT4DEi",
        "colab_type": "code",
        "outputId": "5ec2081f-22dd-4293-b8de-4b061100562e",
        "colab": {
          "base_uri": "https://localhost:8080/",
          "height": 71
        }
      },
      "source": [
        "print(df.columns)"
      ],
      "execution_count": 0,
      "outputs": [
        {
          "output_type": "stream",
          "text": [
            "Index(['Id', 'ProductId', 'UserId', 'ProfileName', 'HelpfulnessNumerator',\n",
            "       'HelpfulnessDenominator', 'Score', 'Time', 'Summary', 'Text'],\n",
            "      dtype='object')\n"
          ],
          "name": "stdout"
        }
      ]
    },
    {
      "cell_type": "code",
      "metadata": {
        "id": "yKCsWjT41ePB",
        "colab_type": "code",
        "outputId": "d4c08e2d-1b5f-41c1-b803-b574bd020380",
        "colab": {
          "base_uri": "https://localhost:8080/",
          "height": 323
        }
      },
      "source": [
        "df.info()\n"
      ],
      "execution_count": 0,
      "outputs": [
        {
          "output_type": "stream",
          "text": [
            "<class 'pandas.core.frame.DataFrame'>\n",
            "RangeIndex: 100000 entries, 0 to 99999\n",
            "Data columns (total 10 columns):\n",
            " #   Column                  Non-Null Count   Dtype \n",
            "---  ------                  --------------   ----- \n",
            " 0   Id                      100000 non-null  int64 \n",
            " 1   ProductId               100000 non-null  object\n",
            " 2   UserId                  100000 non-null  object\n",
            " 3   ProfileName             99996 non-null   object\n",
            " 4   HelpfulnessNumerator    100000 non-null  int64 \n",
            " 5   HelpfulnessDenominator  100000 non-null  int64 \n",
            " 6   Score                   100000 non-null  int64 \n",
            " 7   Time                    100000 non-null  int64 \n",
            " 8   Summary                 99998 non-null   object\n",
            " 9   Text                    100000 non-null  object\n",
            "dtypes: int64(5), object(5)\n",
            "memory usage: 7.6+ MB\n"
          ],
          "name": "stdout"
        }
      ]
    },
    {
      "cell_type": "code",
      "metadata": {
        "id": "donrkV0D2azn",
        "colab_type": "code",
        "outputId": "ab2bc554-bfcf-41f0-d715-a9bfff4b7282",
        "colab": {
          "base_uri": "https://localhost:8080/",
          "height": 297
        }
      },
      "source": [
        "df.describe()\n"
      ],
      "execution_count": 0,
      "outputs": [
        {
          "output_type": "execute_result",
          "data": {
            "text/html": [
              "<div>\n",
              "<style scoped>\n",
              "    .dataframe tbody tr th:only-of-type {\n",
              "        vertical-align: middle;\n",
              "    }\n",
              "\n",
              "    .dataframe tbody tr th {\n",
              "        vertical-align: top;\n",
              "    }\n",
              "\n",
              "    .dataframe thead th {\n",
              "        text-align: right;\n",
              "    }\n",
              "</style>\n",
              "<table border=\"1\" class=\"dataframe\">\n",
              "  <thead>\n",
              "    <tr style=\"text-align: right;\">\n",
              "      <th></th>\n",
              "      <th>Id</th>\n",
              "      <th>HelpfulnessNumerator</th>\n",
              "      <th>HelpfulnessDenominator</th>\n",
              "      <th>Score</th>\n",
              "      <th>Time</th>\n",
              "    </tr>\n",
              "  </thead>\n",
              "  <tbody>\n",
              "    <tr>\n",
              "      <th>count</th>\n",
              "      <td>100000.000000</td>\n",
              "      <td>100000.000000</td>\n",
              "      <td>100000.000000</td>\n",
              "      <td>100000.000000</td>\n",
              "      <td>1.000000e+05</td>\n",
              "    </tr>\n",
              "    <tr>\n",
              "      <th>mean</th>\n",
              "      <td>50000.500000</td>\n",
              "      <td>1.639790</td>\n",
              "      <td>2.119960</td>\n",
              "      <td>4.152630</td>\n",
              "      <td>1.296225e+09</td>\n",
              "    </tr>\n",
              "    <tr>\n",
              "      <th>std</th>\n",
              "      <td>28867.657797</td>\n",
              "      <td>6.368915</td>\n",
              "      <td>6.991061</td>\n",
              "      <td>1.320141</td>\n",
              "      <td>4.782053e+07</td>\n",
              "    </tr>\n",
              "    <tr>\n",
              "      <th>min</th>\n",
              "      <td>1.000000</td>\n",
              "      <td>0.000000</td>\n",
              "      <td>0.000000</td>\n",
              "      <td>1.000000</td>\n",
              "      <td>9.486720e+08</td>\n",
              "    </tr>\n",
              "    <tr>\n",
              "      <th>25%</th>\n",
              "      <td>25000.750000</td>\n",
              "      <td>0.000000</td>\n",
              "      <td>0.000000</td>\n",
              "      <td>4.000000</td>\n",
              "      <td>1.270512e+09</td>\n",
              "    </tr>\n",
              "    <tr>\n",
              "      <th>50%</th>\n",
              "      <td>50000.500000</td>\n",
              "      <td>0.000000</td>\n",
              "      <td>1.000000</td>\n",
              "      <td>5.000000</td>\n",
              "      <td>1.311725e+09</td>\n",
              "    </tr>\n",
              "    <tr>\n",
              "      <th>75%</th>\n",
              "      <td>75000.250000</td>\n",
              "      <td>2.000000</td>\n",
              "      <td>2.000000</td>\n",
              "      <td>5.000000</td>\n",
              "      <td>1.332720e+09</td>\n",
              "    </tr>\n",
              "    <tr>\n",
              "      <th>max</th>\n",
              "      <td>100000.000000</td>\n",
              "      <td>559.000000</td>\n",
              "      <td>562.000000</td>\n",
              "      <td>5.000000</td>\n",
              "      <td>1.351210e+09</td>\n",
              "    </tr>\n",
              "  </tbody>\n",
              "</table>\n",
              "</div>"
            ],
            "text/plain": [
              "                  Id  HelpfulnessNumerator  ...          Score          Time\n",
              "count  100000.000000         100000.000000  ...  100000.000000  1.000000e+05\n",
              "mean    50000.500000              1.639790  ...       4.152630  1.296225e+09\n",
              "std     28867.657797              6.368915  ...       1.320141  4.782053e+07\n",
              "min         1.000000              0.000000  ...       1.000000  9.486720e+08\n",
              "25%     25000.750000              0.000000  ...       4.000000  1.270512e+09\n",
              "50%     50000.500000              0.000000  ...       5.000000  1.311725e+09\n",
              "75%     75000.250000              2.000000  ...       5.000000  1.332720e+09\n",
              "max    100000.000000            559.000000  ...       5.000000  1.351210e+09\n",
              "\n",
              "[8 rows x 5 columns]"
            ]
          },
          "metadata": {
            "tags": []
          },
          "execution_count": 6
        }
      ]
    },
    {
      "cell_type": "code",
      "metadata": {
        "id": "e8EbhROF22w4",
        "colab_type": "code",
        "outputId": "c1dbc484-2ee0-4213-dfb4-e8b807544b9e",
        "colab": {
          "base_uri": "https://localhost:8080/",
          "height": 215
        }
      },
      "source": [
        "df['Text'][500:510]"
      ],
      "execution_count": 0,
      "outputs": [
        {
          "output_type": "execute_result",
          "data": {
            "text/plain": [
              "500    I bought these for the office and no one can p...\n",
              "501    It was a great value and I like the package si...\n",
              "502    Perfect!! They are my favorite because I can s...\n",
              "503    Amazon's suggestion for a 4 star review is \"I ...\n",
              "504    These are a favorite at our home. We like the ...\n",
              "505    These are the best unsalted chips around and w...\n",
              "506    Great chips, great price.  Odds are that you w...\n",
              "507    I was really looking forward to trying these c...\n",
              "508    These are perhaps the worst chips that have ev...\n",
              "509    Kettle chips now look, feel and taste like Lay...\n",
              "Name: Text, dtype: object"
            ]
          },
          "metadata": {
            "tags": []
          },
          "execution_count": 7
        }
      ]
    },
    {
      "cell_type": "code",
      "metadata": {
        "id": "kgb7aoQ73V8x",
        "colab_type": "code",
        "outputId": "5a640ccc-7875-49d3-f6b2-a448fc8bc153",
        "colab": {
          "base_uri": "https://localhost:8080/",
          "height": 35
        }
      },
      "source": [
        "df.shape"
      ],
      "execution_count": 0,
      "outputs": [
        {
          "output_type": "execute_result",
          "data": {
            "text/plain": [
              "(100000, 10)"
            ]
          },
          "metadata": {
            "tags": []
          },
          "execution_count": 8
        }
      ]
    },
    {
      "cell_type": "code",
      "metadata": {
        "id": "aU9NughB4Ale",
        "colab_type": "code",
        "outputId": "725f4822-7bf1-491a-b983-127d5d0ee908",
        "colab": {
          "base_uri": "https://localhost:8080/",
          "height": 215
        }
      },
      "source": [
        "df.isnull().sum()"
      ],
      "execution_count": 0,
      "outputs": [
        {
          "output_type": "execute_result",
          "data": {
            "text/plain": [
              "Id                        0\n",
              "ProductId                 0\n",
              "UserId                    0\n",
              "ProfileName               4\n",
              "HelpfulnessNumerator      0\n",
              "HelpfulnessDenominator    0\n",
              "Score                     0\n",
              "Time                      0\n",
              "Summary                   2\n",
              "Text                      0\n",
              "dtype: int64"
            ]
          },
          "metadata": {
            "tags": []
          },
          "execution_count": 9
        }
      ]
    },
    {
      "cell_type": "code",
      "metadata": {
        "id": "12mGpY4s4TUf",
        "colab_type": "code",
        "outputId": "19d1cee8-96b5-4606-d3ba-7d7ae3c81bb3",
        "colab": {
          "base_uri": "https://localhost:8080/",
          "height": 450
        }
      },
      "source": [
        "df.groupby('ProductId').mean()"
      ],
      "execution_count": 0,
      "outputs": [
        {
          "output_type": "execute_result",
          "data": {
            "text/html": [
              "<div>\n",
              "<style scoped>\n",
              "    .dataframe tbody tr th:only-of-type {\n",
              "        vertical-align: middle;\n",
              "    }\n",
              "\n",
              "    .dataframe tbody tr th {\n",
              "        vertical-align: top;\n",
              "    }\n",
              "\n",
              "    .dataframe thead th {\n",
              "        text-align: right;\n",
              "    }\n",
              "</style>\n",
              "<table border=\"1\" class=\"dataframe\">\n",
              "  <thead>\n",
              "    <tr style=\"text-align: right;\">\n",
              "      <th></th>\n",
              "      <th>Id</th>\n",
              "      <th>HelpfulnessNumerator</th>\n",
              "      <th>HelpfulnessDenominator</th>\n",
              "      <th>Score</th>\n",
              "      <th>Time</th>\n",
              "    </tr>\n",
              "    <tr>\n",
              "      <th>ProductId</th>\n",
              "      <th></th>\n",
              "      <th></th>\n",
              "      <th></th>\n",
              "      <th></th>\n",
              "      <th></th>\n",
              "    </tr>\n",
              "  </thead>\n",
              "  <tbody>\n",
              "    <tr>\n",
              "      <th>2734888454</th>\n",
              "      <td>24750.5</td>\n",
              "      <td>0.500000</td>\n",
              "      <td>0.500000</td>\n",
              "      <td>3.500000</td>\n",
              "      <td>1.194005e+09</td>\n",
              "    </tr>\n",
              "    <tr>\n",
              "      <th>B00002N8SM</th>\n",
              "      <td>76871.5</td>\n",
              "      <td>0.473684</td>\n",
              "      <td>0.868421</td>\n",
              "      <td>1.789474</td>\n",
              "      <td>1.271608e+09</td>\n",
              "    </tr>\n",
              "    <tr>\n",
              "      <th>B00002NCJC</th>\n",
              "      <td>2774.5</td>\n",
              "      <td>0.000000</td>\n",
              "      <td>0.000000</td>\n",
              "      <td>4.500000</td>\n",
              "      <td>1.282003e+09</td>\n",
              "    </tr>\n",
              "    <tr>\n",
              "      <th>B00002Z754</th>\n",
              "      <td>1244.5</td>\n",
              "      <td>8.500000</td>\n",
              "      <td>8.500000</td>\n",
              "      <td>5.000000</td>\n",
              "      <td>9.619776e+08</td>\n",
              "    </tr>\n",
              "    <tr>\n",
              "      <th>B00005V3DC</th>\n",
              "      <td>9526.0</td>\n",
              "      <td>1.666667</td>\n",
              "      <td>2.333333</td>\n",
              "      <td>5.000000</td>\n",
              "      <td>1.292342e+09</td>\n",
              "    </tr>\n",
              "    <tr>\n",
              "      <th>...</th>\n",
              "      <td>...</td>\n",
              "      <td>...</td>\n",
              "      <td>...</td>\n",
              "      <td>...</td>\n",
              "      <td>...</td>\n",
              "    </tr>\n",
              "    <tr>\n",
              "      <th>B009KUFALA</th>\n",
              "      <td>71232.0</td>\n",
              "      <td>3.000000</td>\n",
              "      <td>4.000000</td>\n",
              "      <td>5.000000</td>\n",
              "      <td>1.184371e+09</td>\n",
              "    </tr>\n",
              "    <tr>\n",
              "      <th>B009NTCO4O</th>\n",
              "      <td>32544.0</td>\n",
              "      <td>4.909091</td>\n",
              "      <td>5.090909</td>\n",
              "      <td>4.909091</td>\n",
              "      <td>1.254473e+09</td>\n",
              "    </tr>\n",
              "    <tr>\n",
              "      <th>B009O7B1I0</th>\n",
              "      <td>38512.0</td>\n",
              "      <td>0.000000</td>\n",
              "      <td>0.000000</td>\n",
              "      <td>1.000000</td>\n",
              "      <td>1.350864e+09</td>\n",
              "    </tr>\n",
              "    <tr>\n",
              "      <th>B009UOFU20</th>\n",
              "      <td>1478.0</td>\n",
              "      <td>0.000000</td>\n",
              "      <td>0.000000</td>\n",
              "      <td>1.000000</td>\n",
              "      <td>1.345853e+09</td>\n",
              "    </tr>\n",
              "    <tr>\n",
              "      <th>B009WSNWC4</th>\n",
              "      <td>5703.0</td>\n",
              "      <td>0.000000</td>\n",
              "      <td>0.000000</td>\n",
              "      <td>5.000000</td>\n",
              "      <td>1.351210e+09</td>\n",
              "    </tr>\n",
              "  </tbody>\n",
              "</table>\n",
              "<p>12560 rows × 5 columns</p>\n",
              "</div>"
            ],
            "text/plain": [
              "                 Id  HelpfulnessNumerator  ...     Score          Time\n",
              "ProductId                                  ...                        \n",
              "2734888454  24750.5              0.500000  ...  3.500000  1.194005e+09\n",
              "B00002N8SM  76871.5              0.473684  ...  1.789474  1.271608e+09\n",
              "B00002NCJC   2774.5              0.000000  ...  4.500000  1.282003e+09\n",
              "B00002Z754   1244.5              8.500000  ...  5.000000  9.619776e+08\n",
              "B00005V3DC   9526.0              1.666667  ...  5.000000  1.292342e+09\n",
              "...             ...                   ...  ...       ...           ...\n",
              "B009KUFALA  71232.0              3.000000  ...  5.000000  1.184371e+09\n",
              "B009NTCO4O  32544.0              4.909091  ...  4.909091  1.254473e+09\n",
              "B009O7B1I0  38512.0              0.000000  ...  1.000000  1.350864e+09\n",
              "B009UOFU20   1478.0              0.000000  ...  1.000000  1.345853e+09\n",
              "B009WSNWC4   5703.0              0.000000  ...  5.000000  1.351210e+09\n",
              "\n",
              "[12560 rows x 5 columns]"
            ]
          },
          "metadata": {
            "tags": []
          },
          "execution_count": 10
        }
      ]
    },
    {
      "cell_type": "code",
      "metadata": {
        "id": "MsDK__vqMJGi",
        "colab_type": "code",
        "outputId": "1f19d039-6995-406c-ea83-857822093598",
        "colab": {
          "base_uri": "https://localhost:8080/",
          "height": 287
        }
      },
      "source": [
        "print(df.groupby('ProductId').count().sort_values('Id'))"
      ],
      "execution_count": 0,
      "outputs": [
        {
          "output_type": "stream",
          "text": [
            "             Id  UserId  ProfileName  ...  Time  Summary  Text\n",
            "ProductId                             ...                     \n",
            "B009WSNWC4    1       1            1  ...     1        1     1\n",
            "B0043JGNPA    1       1            1  ...     1        1     1\n",
            "B0012OTHAM    1       1            1  ...     1        1     1\n",
            "B0012OTH8O    1       1            1  ...     1        1     1\n",
            "B0012ORELQ    1       1            1  ...     1        1     1\n",
            "...         ...     ...          ...  ...   ...      ...   ...\n",
            "B000KV61FC  556     556          556  ...   556      556   556\n",
            "B0013NUGDE  564     564          564  ...   564      564   564\n",
            "B007M83302  564     564          564  ...   564      564   564\n",
            "B0026RQTGE  632     632          632  ...   632      632   632\n",
            "B002QWP89S  632     632          632  ...   632      632   632\n",
            "\n",
            "[12560 rows x 9 columns]\n"
          ],
          "name": "stdout"
        }
      ]
    },
    {
      "cell_type": "markdown",
      "metadata": {
        "id": "NLNtsDW6nziS",
        "colab_type": "text"
      },
      "source": [
        "B0026RQTGE and B002QWP89S has maximum reviews"
      ]
    },
    {
      "cell_type": "code",
      "metadata": {
        "id": "VkNql-96nGk2",
        "colab_type": "code",
        "outputId": "e01d8939-8cae-42f5-94a7-90deb496a754",
        "colab": {
          "base_uri": "https://localhost:8080/",
          "height": 269
        }
      },
      "source": [
        "df2 = (df.loc[df['ProductId'] == 'B002QWP89S'])\n",
        "print(df2)"
      ],
      "execution_count": 0,
      "outputs": [
        {
          "output_type": "stream",
          "text": [
            "          Id  ...                                               Text\n",
            "20982  20983  ...  my 12 year old sheltie has chronic brochotitis...\n",
            "20983  20984  ...  These are genuine Greenies product, not a knoc...\n",
            "20984  20985  ...  Our dogs love Greenies, but of course, which d...\n",
            "20985  20986  ...  What can I say, dogs love greenies. They begg ...\n",
            "20986  20987  ...  This review is for a box of Greenies Lite for ...\n",
            "...      ...  ...                                                ...\n",
            "21609  21610  ...  Make sure you have a small dog...Big Dogs migh...\n",
            "21610  21611  ...  These are the best things since sliced bread. ...\n",
            "21611  21612  ...  My dog loves these.  I received a sample at th...\n",
            "21612  21613  ...  Oh my gosh, we cannot be without Greenies at o...\n",
            "21613  21614  ...  Same thing you buy for a lot more at other sto...\n",
            "\n",
            "[632 rows x 10 columns]\n"
          ],
          "name": "stdout"
        }
      ]
    },
    {
      "cell_type": "code",
      "metadata": {
        "id": "5oVXujMlnyjU",
        "colab_type": "code",
        "colab": {}
      },
      "source": [
        "df2.to_json(\"B002QWP89S.json\", orient ='index')"
      ],
      "execution_count": 0,
      "outputs": []
    },
    {
      "cell_type": "code",
      "metadata": {
        "id": "MvXwecuPomMB",
        "colab_type": "code",
        "outputId": "c0539374-5163-4ff3-fa91-3ef9cb0ca70f",
        "colab": {
          "base_uri": "https://localhost:8080/",
          "height": 269
        }
      },
      "source": [
        "df3 = pd.read_csv(\"/content/gdrive/My Drive/PROJECT | S7-S8/Data/training.csv\", engine='python')\n",
        "print(df3)"
      ],
      "execution_count": 0,
      "outputs": [
        {
          "output_type": "stream",
          "text": [
            "         0  ...  @switchfoot http://twitpic.com/2y1zl - Awww, that's a bummer.  You shoulda got David Carr of Third Day to do it. ;D\n",
            "0        0  ...  is upset that he can't update his Facebook by ...                                                                  \n",
            "1        0  ...  @Kenichan I dived many times for the ball. Man...                                                                  \n",
            "2        0  ...    my whole body feels itchy and like its on fire                                                                   \n",
            "3        0  ...  @nationwideclass no, it's not behaving at all....                                                                  \n",
            "4        0  ...                      @Kwesidei not the whole crew                                                                   \n",
            "...     ..  ...                                                ...                                                                  \n",
            "1599994  4  ...  Just woke up. Having no school is the best fee...                                                                  \n",
            "1599995  4  ...  TheWDB.com - Very cool to hear old Walt interv...                                                                  \n",
            "1599996  4  ...  Are you ready for your MoJo Makeover? Ask me f...                                                                  \n",
            "1599997  4  ...  Happy 38th Birthday to my boo of alll time!!! ...                                                                  \n",
            "1599998  4  ...  happy #charitytuesday @theNSPCC @SparksCharity...                                                                  \n",
            "\n",
            "[1599999 rows x 6 columns]\n"
          ],
          "name": "stdout"
        }
      ]
    }
  ]
}