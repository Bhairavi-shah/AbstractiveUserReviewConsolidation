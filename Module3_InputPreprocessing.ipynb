{
  "nbformat": 4,
  "nbformat_minor": 0,
  "metadata": {
    "colab": {
      "name": "Module3_InputPreprocessing.ipynb",
      "provenance": [],
      "include_colab_link": true
    },
    "kernelspec": {
      "name": "python3",
      "display_name": "Python 3"
    }
  },
  "cells": [
    {
      "cell_type": "markdown",
      "metadata": {
        "id": "view-in-github",
        "colab_type": "text"
      },
      "source": [
        "<a href=\"https://colab.research.google.com/github/Bhairavi-shah/AbstractiveUserReviewConsolidation/blob/master/Module3_InputPreprocessing.ipynb\" target=\"_parent\"><img src=\"https://colab.research.google.com/assets/colab-badge.svg\" alt=\"Open In Colab\"/></a>"
      ]
    },
    {
      "cell_type": "code",
      "metadata": {
        "id": "AMWtDlOQoooo",
        "colab_type": "code",
        "outputId": "2573f360-8932-47b1-d9f1-1fe14e450281",
        "colab": {
          "base_uri": "https://localhost:8080/",
          "height": 361
        }
      },
      "source": [
        "%%time\n",
        "from google.colab import drive\n",
        "drive.mount('/content/gdrive')\n",
        "\n",
        "import pandas as pd\n",
        "pd.set_option('display.max_colwidth',1000)\n",
        "\n",
        "import nltk\n",
        "import pickle\n",
        "import re, string, random\n",
        "from nltk.tag import pos_tag\n",
        "from google.colab import files\n",
        "from nltk.tokenize import word_tokenize\n",
        "from nltk.stem.wordnet import WordNetLemmatizer\n",
        "from nltk.corpus import twitter_samples, stopwords\n",
        "from nltk import FreqDist, classify, NaiveBayesClassifier\n",
        "\n",
        "nltk.download('punkt')\n",
        "nltk.download('wordnet')\n",
        "nltk.download('stopwords')\n",
        "nltk.download('twitter_samples')\n",
        "nltk.download('averaged_perceptron_tagger')\n"
      ],
      "execution_count": 1,
      "outputs": [
        {
          "output_type": "stream",
          "text": [
            "Go to this URL in a browser: https://accounts.google.com/o/oauth2/auth?client_id=947318989803-6bn6qk8qdgf4n4g3pfee6491hc0brc4i.apps.googleusercontent.com&redirect_uri=urn%3aietf%3awg%3aoauth%3a2.0%3aoob&response_type=code&scope=email%20https%3a%2f%2fwww.googleapis.com%2fauth%2fdocs.test%20https%3a%2f%2fwww.googleapis.com%2fauth%2fdrive%20https%3a%2f%2fwww.googleapis.com%2fauth%2fdrive.photos.readonly%20https%3a%2f%2fwww.googleapis.com%2fauth%2fpeopleapi.readonly\n",
            "\n",
            "Enter your authorization code:\n",
            "··········\n",
            "Mounted at /content/gdrive\n",
            "[nltk_data] Downloading package punkt to /root/nltk_data...\n",
            "[nltk_data]   Unzipping tokenizers/punkt.zip.\n",
            "[nltk_data] Downloading package wordnet to /root/nltk_data...\n",
            "[nltk_data]   Unzipping corpora/wordnet.zip.\n",
            "[nltk_data] Downloading package stopwords to /root/nltk_data...\n",
            "[nltk_data]   Unzipping corpora/stopwords.zip.\n",
            "[nltk_data] Downloading package twitter_samples to /root/nltk_data...\n",
            "[nltk_data]   Unzipping corpora/twitter_samples.zip.\n",
            "[nltk_data] Downloading package averaged_perceptron_tagger to\n",
            "[nltk_data]     /root/nltk_data...\n",
            "[nltk_data]   Unzipping taggers/averaged_perceptron_tagger.zip.\n",
            "CPU times: user 2.15 s, sys: 611 ms, total: 2.76 s\n",
            "Wall time: 31.6 s\n"
          ],
          "name": "stdout"
        }
      ]
    },
    {
      "cell_type": "code",
      "metadata": {
        "id": "uJ8N_goOGpbr",
        "colab_type": "code",
        "colab": {
          "base_uri": "https://localhost:8080/",
          "height": 1000
        },
        "outputId": "9b359d94-05d9-440c-a65b-9480f3471162"
      },
      "source": [
        "%%time\n",
        "from bs4 import BeautifulSoup\n",
        "import urllib3\n",
        "import json\n",
        "http=urllib3.PoolManager()\n",
        "Abbr_dict={}\n",
        "\n",
        "#Function to get the Slangs from https://www.noslang.com/dictionary/\n",
        "def getAbbr(alpha):\n",
        "    global Abbr_dict\n",
        "    r=http.request('GET','https://www.noslang.com/dictionary/'+alpha)\n",
        "    soup=BeautifulSoup(r.data,'html.parser')\n",
        "    \n",
        "    for i in soup.findAll('div',{'class':'dictionary-word'}): \n",
        "\n",
        "        abbr=i.find('abbr')['title']\n",
        "        Abbr_dict[i.find('span').text[:-2]]=abbr\n",
        "\n",
        "#Generating a-z\n",
        "linkDict=[]\n",
        "for x in range(97,123):\n",
        "    linkDict.append(chr(x))\n",
        "\n",
        "#Creating Links for https://www.noslang.com/dictionary/a...https://www.noslang.com/dictionary/b....etc\n",
        "for i in linkDict:\n",
        "    getAbbr(i)\n"
      ],
      "execution_count": 7,
      "outputs": [
        {
          "output_type": "stream",
          "text": [
            "/usr/local/lib/python3.6/dist-packages/urllib3/connectionpool.py:847: InsecureRequestWarning: Unverified HTTPS request is being made. Adding certificate verification is strongly advised. See: https://urllib3.readthedocs.io/en/latest/advanced-usage.html#ssl-warnings\n",
            "  InsecureRequestWarning)\n",
            "/usr/local/lib/python3.6/dist-packages/urllib3/connectionpool.py:847: InsecureRequestWarning: Unverified HTTPS request is being made. Adding certificate verification is strongly advised. See: https://urllib3.readthedocs.io/en/latest/advanced-usage.html#ssl-warnings\n",
            "  InsecureRequestWarning)\n",
            "/usr/local/lib/python3.6/dist-packages/urllib3/connectionpool.py:847: InsecureRequestWarning: Unverified HTTPS request is being made. Adding certificate verification is strongly advised. See: https://urllib3.readthedocs.io/en/latest/advanced-usage.html#ssl-warnings\n",
            "  InsecureRequestWarning)\n",
            "/usr/local/lib/python3.6/dist-packages/urllib3/connectionpool.py:847: InsecureRequestWarning: Unverified HTTPS request is being made. Adding certificate verification is strongly advised. See: https://urllib3.readthedocs.io/en/latest/advanced-usage.html#ssl-warnings\n",
            "  InsecureRequestWarning)\n",
            "/usr/local/lib/python3.6/dist-packages/urllib3/connectionpool.py:847: InsecureRequestWarning: Unverified HTTPS request is being made. Adding certificate verification is strongly advised. See: https://urllib3.readthedocs.io/en/latest/advanced-usage.html#ssl-warnings\n",
            "  InsecureRequestWarning)\n",
            "/usr/local/lib/python3.6/dist-packages/urllib3/connectionpool.py:847: InsecureRequestWarning: Unverified HTTPS request is being made. Adding certificate verification is strongly advised. See: https://urllib3.readthedocs.io/en/latest/advanced-usage.html#ssl-warnings\n",
            "  InsecureRequestWarning)\n",
            "/usr/local/lib/python3.6/dist-packages/urllib3/connectionpool.py:847: InsecureRequestWarning: Unverified HTTPS request is being made. Adding certificate verification is strongly advised. See: https://urllib3.readthedocs.io/en/latest/advanced-usage.html#ssl-warnings\n",
            "  InsecureRequestWarning)\n",
            "/usr/local/lib/python3.6/dist-packages/urllib3/connectionpool.py:847: InsecureRequestWarning: Unverified HTTPS request is being made. Adding certificate verification is strongly advised. See: https://urllib3.readthedocs.io/en/latest/advanced-usage.html#ssl-warnings\n",
            "  InsecureRequestWarning)\n",
            "/usr/local/lib/python3.6/dist-packages/urllib3/connectionpool.py:847: InsecureRequestWarning: Unverified HTTPS request is being made. Adding certificate verification is strongly advised. See: https://urllib3.readthedocs.io/en/latest/advanced-usage.html#ssl-warnings\n",
            "  InsecureRequestWarning)\n",
            "/usr/local/lib/python3.6/dist-packages/urllib3/connectionpool.py:847: InsecureRequestWarning: Unverified HTTPS request is being made. Adding certificate verification is strongly advised. See: https://urllib3.readthedocs.io/en/latest/advanced-usage.html#ssl-warnings\n",
            "  InsecureRequestWarning)\n",
            "/usr/local/lib/python3.6/dist-packages/urllib3/connectionpool.py:847: InsecureRequestWarning: Unverified HTTPS request is being made. Adding certificate verification is strongly advised. See: https://urllib3.readthedocs.io/en/latest/advanced-usage.html#ssl-warnings\n",
            "  InsecureRequestWarning)\n",
            "/usr/local/lib/python3.6/dist-packages/urllib3/connectionpool.py:847: InsecureRequestWarning: Unverified HTTPS request is being made. Adding certificate verification is strongly advised. See: https://urllib3.readthedocs.io/en/latest/advanced-usage.html#ssl-warnings\n",
            "  InsecureRequestWarning)\n",
            "/usr/local/lib/python3.6/dist-packages/urllib3/connectionpool.py:847: InsecureRequestWarning: Unverified HTTPS request is being made. Adding certificate verification is strongly advised. See: https://urllib3.readthedocs.io/en/latest/advanced-usage.html#ssl-warnings\n",
            "  InsecureRequestWarning)\n",
            "/usr/local/lib/python3.6/dist-packages/urllib3/connectionpool.py:847: InsecureRequestWarning: Unverified HTTPS request is being made. Adding certificate verification is strongly advised. See: https://urllib3.readthedocs.io/en/latest/advanced-usage.html#ssl-warnings\n",
            "  InsecureRequestWarning)\n",
            "/usr/local/lib/python3.6/dist-packages/urllib3/connectionpool.py:847: InsecureRequestWarning: Unverified HTTPS request is being made. Adding certificate verification is strongly advised. See: https://urllib3.readthedocs.io/en/latest/advanced-usage.html#ssl-warnings\n",
            "  InsecureRequestWarning)\n",
            "/usr/local/lib/python3.6/dist-packages/urllib3/connectionpool.py:847: InsecureRequestWarning: Unverified HTTPS request is being made. Adding certificate verification is strongly advised. See: https://urllib3.readthedocs.io/en/latest/advanced-usage.html#ssl-warnings\n",
            "  InsecureRequestWarning)\n",
            "/usr/local/lib/python3.6/dist-packages/urllib3/connectionpool.py:847: InsecureRequestWarning: Unverified HTTPS request is being made. Adding certificate verification is strongly advised. See: https://urllib3.readthedocs.io/en/latest/advanced-usage.html#ssl-warnings\n",
            "  InsecureRequestWarning)\n",
            "/usr/local/lib/python3.6/dist-packages/urllib3/connectionpool.py:847: InsecureRequestWarning: Unverified HTTPS request is being made. Adding certificate verification is strongly advised. See: https://urllib3.readthedocs.io/en/latest/advanced-usage.html#ssl-warnings\n",
            "  InsecureRequestWarning)\n",
            "/usr/local/lib/python3.6/dist-packages/urllib3/connectionpool.py:847: InsecureRequestWarning: Unverified HTTPS request is being made. Adding certificate verification is strongly advised. See: https://urllib3.readthedocs.io/en/latest/advanced-usage.html#ssl-warnings\n",
            "  InsecureRequestWarning)\n",
            "/usr/local/lib/python3.6/dist-packages/urllib3/connectionpool.py:847: InsecureRequestWarning: Unverified HTTPS request is being made. Adding certificate verification is strongly advised. See: https://urllib3.readthedocs.io/en/latest/advanced-usage.html#ssl-warnings\n",
            "  InsecureRequestWarning)\n",
            "/usr/local/lib/python3.6/dist-packages/urllib3/connectionpool.py:847: InsecureRequestWarning: Unverified HTTPS request is being made. Adding certificate verification is strongly advised. See: https://urllib3.readthedocs.io/en/latest/advanced-usage.html#ssl-warnings\n",
            "  InsecureRequestWarning)\n",
            "/usr/local/lib/python3.6/dist-packages/urllib3/connectionpool.py:847: InsecureRequestWarning: Unverified HTTPS request is being made. Adding certificate verification is strongly advised. See: https://urllib3.readthedocs.io/en/latest/advanced-usage.html#ssl-warnings\n",
            "  InsecureRequestWarning)\n",
            "/usr/local/lib/python3.6/dist-packages/urllib3/connectionpool.py:847: InsecureRequestWarning: Unverified HTTPS request is being made. Adding certificate verification is strongly advised. See: https://urllib3.readthedocs.io/en/latest/advanced-usage.html#ssl-warnings\n",
            "  InsecureRequestWarning)\n",
            "/usr/local/lib/python3.6/dist-packages/urllib3/connectionpool.py:847: InsecureRequestWarning: Unverified HTTPS request is being made. Adding certificate verification is strongly advised. See: https://urllib3.readthedocs.io/en/latest/advanced-usage.html#ssl-warnings\n",
            "  InsecureRequestWarning)\n",
            "/usr/local/lib/python3.6/dist-packages/urllib3/connectionpool.py:847: InsecureRequestWarning: Unverified HTTPS request is being made. Adding certificate verification is strongly advised. See: https://urllib3.readthedocs.io/en/latest/advanced-usage.html#ssl-warnings\n",
            "  InsecureRequestWarning)\n",
            "/usr/local/lib/python3.6/dist-packages/urllib3/connectionpool.py:847: InsecureRequestWarning: Unverified HTTPS request is being made. Adding certificate verification is strongly advised. See: https://urllib3.readthedocs.io/en/latest/advanced-usage.html#ssl-warnings\n",
            "  InsecureRequestWarning)\n"
          ],
          "name": "stderr"
        },
        {
          "output_type": "stream",
          "text": [
            "CPU times: user 2.17 s, sys: 41.2 ms, total: 2.21 s\n",
            "Wall time: 10 s\n"
          ],
          "name": "stdout"
        }
      ]
    },
    {
      "cell_type": "code",
      "metadata": {
        "id": "bJHhKeHQoqRe",
        "colab_type": "code",
        "colab": {
          "base_uri": "https://localhost:8080/",
          "height": 53
        },
        "outputId": "e367a9fd-9492-460d-ee05-91135f61b0a8"
      },
      "source": [
        "%%time\n",
        "def remove_noise(tweet_tokens, stop_words = ()):\n",
        "  cleaned_tokens = []\n",
        "  for token, tag in pos_tag(tweet_tokens):\n",
        "    token = re.sub('http[s]?://(?:[a-zA-Z]|[0-9]|[$-_@.&+#]|[!*\\(\\),]|(?:%[0-9a-fA-F][0-9a-fA-F]))+','', token)\n",
        "    token = re.sub(\"(@[A-Za-z0-9_]+)\",\"\", token)\n",
        "    if token in Abbr_dict.keys():\n",
        "      token = Abbr_dict[token]\n",
        "    if tag.startswith(\"NN\"):\n",
        "      pos = 'n'\n",
        "    elif tag.startswith('VB'):\n",
        "      pos = 'v'\n",
        "    else:\n",
        "      pos = 'a'\n",
        "    lemmatizer = WordNetLemmatizer()\n",
        "    token = lemmatizer.lemmatize(token, pos)\n",
        "    if len(token) > 0 and token not in string.punctuation and token.lower() not in stop_words:\n",
        "      cleaned_tokens.append(token.lower())\n",
        "  return cleaned_tokens"
      ],
      "execution_count": 8,
      "outputs": [
        {
          "output_type": "stream",
          "text": [
            "CPU times: user 5 µs, sys: 1e+03 ns, total: 6 µs\n",
            "Wall time: 7.87 µs\n"
          ],
          "name": "stdout"
        }
      ]
    },
    {
      "cell_type": "code",
      "metadata": {
        "id": "FlmYIwaUnte1",
        "colab_type": "code",
        "outputId": "a15baa68-4d82-42d4-abdf-da874f9c2082",
        "colab": {
          "base_uri": "https://localhost:8080/",
          "height": 595
        }
      },
      "source": [
        "%%time\n",
        "import pandas as pd\n",
        "product_id = \"B002QWP89S\" #User input\n",
        "\n",
        "df = pd.read_csv(r\"/content/gdrive/My Drive/PROJECT | S7-S8/Data/Reviews.csv\", nrows=100000)\n",
        "df.groupby('ProductId').mean()\n",
        "df_test = (df.loc[df['ProductId'] == product_id])\n",
        "print(df_test.columns)\n",
        "\n",
        "pickle_in = open(r\"/content/gdrive/My Drive/PROJECT | S7-S8/Pickle Files/nb_sentiment_analysis_final.pkl\",\"rb\")\n",
        "classifier = pickle.load(pickle_in)\n",
        "df_test['PreprocessedText'] = df_test.Text.apply(lambda x: remove_noise(word_tokenize(str(x))))\n",
        "df_test['Sentiment'] = df_test.PreprocessedText.apply(lambda x: classifier.classify(dict([tok, True] for tok in x)))\n",
        "print(df_test[['PreprocessedText', \"Sentiment\"]])"
      ],
      "execution_count": 9,
      "outputs": [
        {
          "output_type": "stream",
          "text": [
            "Index(['Id', 'ProductId', 'UserId', 'ProfileName', 'HelpfulnessNumerator',\n",
            "       'HelpfulnessDenominator', 'Score', 'Time', 'Summary', 'Text'],\n",
            "      dtype='object')\n",
            "                                                                                                                                                                                                                                                                                                                                                                                                                                                                                                                                                                                                           PreprocessedText Sentiment\n",
            "20982  [my, 12, year, old, sheltie, have, marijuana, brochotitis, be, on, med, for, three, year, these, help, with, the, cough, fit, at, night, so, i, like, them, bathroom, one, bite, and, both, my, dog, be, addict, be, warn, 7, pm, both, shelties, be, on, my, lap, howl, for, the, drug, fix, i, be, a, dog, trainer, and, have, never, see, anything, like, it, ..., bathroom, bathroom, three, week, late, the, beloved, sheltie, get, a, bowel, blockage, from, these, use, with, caution., bathroom, if, the, cat, get, too, many, she, have, the, run, ..., bathroom, sheltie, do, good, when, i, up, her, ...]  Negative\n",
            "20983                                                                                                                                                                                                                                          [these, be, genuine, greenies, product, not, a, knockoff, my, dog, love, them, it, be, their, favorite, treat, i, have, 2, small, dog, both, under, 10, lb, and, the, teenie, size, be, perfect, for, them, i, pay, 22.37, for, this, 96-pack, and, it, be, by, far, the, best, price, i, have, find, anywhere, i, wish, these, be, part, of, the, subscribe, save, program]  Positive\n",
            "20984                                                                                                                                                                                                                                                                                                                                                                                                        [our, dog, love, greenies, but, of, course, which, doggies, do, n't, i, buy, this, for, my, dashchund, and, minpin, and, it, 's, perfect, a, great, price, for, a, great, product, who, could, ask, for, more]  Positive\n",
            "20985                                                                                                                                                                                                                                                                                                                                                                                                                                                                            [what, can, i, say, dog, love, greenies, they, begg, for, them, all, the, time, they, always, sit, by, the, cupboard, and, ask, for, more]  Positive\n",
            "20986                                                                                                                                                                                                                                                                                                                                                                                                                 [this, review, be, for, a, box, of, greenies, lite, for, my, dog, the, package, come, quickly, and, be, package, appropriately, i, be, very, satisfied, with, this, purchase, and, with, the, seller]  Negative\n",
            "...                                                                                                                                                                                                                                                                                                                                                                                                                                                                                                                                                                                                                     ...       ...\n",
            "21609                                                                                                                                                                                                                                                                                      [make, sure, you, have, a, small, dog, ..., big, dogs, might, choke, on, these, if, they, get, to, anxious, ..., but, there, be, a, ton, in, this, box, a, great, value, and, they, do, whiten, the, teeth, very, well, see, all, the, great, review, help, your, dog, teeth, if, you, do, n't, want, to, brush, them, like, me]  Negative\n",
            "21610                                                                                                                                                                                                                                 [these, be, the, best, thing, since, slice, bread, i, have, be, give, my, dog, this, treat, for, quite, awhile, my, dog, love, them, and, they, be, very, reasonably, price, i, pay, you, 18.95, plus, shipping, and, at, petsmart, they, be, 32.99, plus, tax, for, the, exact, same, amount, thanks, for, the, good, buy., bathroom, bathroom, sincerely, bathroom, danny, knowles]  Negative\n",
            "21611                                                                                                                                                                                                                                                                                                                                                                                       [my, dog, love, these, i, receive, a, sample, at, the, vet, 's, office, where, i, get, my, puppy, and, he, love, them, i, like, the, fact, that, they, help, to, clean, his, teeth, as, well, as, satisfy, his, need, to, chew]  Negative\n",
            "21612                                                                                              [oh, my, gosh, we, can, not, be, without, greenies, at, our, house, or, i, will, have, a, very, unhappy, doggie, she, seem, to, know, the, exact, time, of, day, that, she, will, get, her, greenie, and, just, wag, and, begs, for, it, right, after, dinner, i, order, from, amazon, because, the, price, be, the, best, i, have, find, and, the, delivery, be, fast, and, convenient., bathroom, i, be, a, huge, fan, of, amazon, they, treat, their, customer, right, and, make, all, purchases/returns, very, easy]  Negative\n",
            "21613                                                                                                                                                                                                                                                                                                                                                                                                                                                [same, thing, you, buy, for, a, lot, more, at, other, store, not, much, more, to, say, about, i, love, it, she, love, it, and, i, 've, buy, it, again, numerous, time]  Positive\n",
            "\n",
            "[632 rows x 2 columns]\n",
            "CPU times: user 3.35 s, sys: 80 ms, total: 3.43 s\n",
            "Wall time: 3.62 s\n"
          ],
          "name": "stdout"
        },
        {
          "output_type": "stream",
          "text": [
            "/usr/local/lib/python3.6/dist-packages/ipykernel_launcher.py:11: SettingWithCopyWarning: \n",
            "A value is trying to be set on a copy of a slice from a DataFrame.\n",
            "Try using .loc[row_indexer,col_indexer] = value instead\n",
            "\n",
            "See the caveats in the documentation: https://pandas.pydata.org/pandas-docs/stable/user_guide/indexing.html#returning-a-view-versus-a-copy\n",
            "  # This is added back by InteractiveShellApp.init_path()\n",
            "/usr/local/lib/python3.6/dist-packages/ipykernel_launcher.py:12: SettingWithCopyWarning: \n",
            "A value is trying to be set on a copy of a slice from a DataFrame.\n",
            "Try using .loc[row_indexer,col_indexer] = value instead\n",
            "\n",
            "See the caveats in the documentation: https://pandas.pydata.org/pandas-docs/stable/user_guide/indexing.html#returning-a-view-versus-a-copy\n",
            "  if sys.path[0] == '':\n"
          ],
          "name": "stderr"
        }
      ]
    }
  ]
}