{
  "nbformat": 4,
  "nbformat_minor": 0,
  "metadata": {
    "colab": {
      "name": "Meta Data_pid.ipynb",
      "provenance": [],
      "machine_shape": "hm",
      "authorship_tag": "ABX9TyMZlpsXW25sXWgtxtSEKJfZ",
      "include_colab_link": true
    },
    "kernelspec": {
      "name": "python3",
      "display_name": "Python 3"
    }
  },
  "cells": [
    {
      "cell_type": "markdown",
      "metadata": {
        "id": "view-in-github",
        "colab_type": "text"
      },
      "source": [
        "<a href=\"https://colab.research.google.com/github/Bhairavi-shah/AbstractiveUserReviewConsolidation/blob/master/Create_Meta_Data_Pid_json.ipynb\" target=\"_parent\"><img src=\"https://colab.research.google.com/assets/colab-badge.svg\" alt=\"Open In Colab\"/></a>"
      ]
    },
    {
      "cell_type": "code",
      "metadata": {
        "id": "7Do7bvr52CR2",
        "colab_type": "code",
        "colab": {
          "base_uri": "https://localhost:8080/",
          "height": 122
        },
        "outputId": "7255c095-3990-4535-eda1-4fe66c69d600"
      },
      "source": [
        "#Initialise drive configurations\n",
        "from google.colab import drive\n",
        "drive.mount('/content/gdrive')"
      ],
      "execution_count": 1,
      "outputs": [
        {
          "output_type": "stream",
          "text": [
            "Go to this URL in a browser: https://accounts.google.com/o/oauth2/auth?client_id=947318989803-6bn6qk8qdgf4n4g3pfee6491hc0brc4i.apps.googleusercontent.com&redirect_uri=urn%3aietf%3awg%3aoauth%3a2.0%3aoob&response_type=code&scope=email%20https%3a%2f%2fwww.googleapis.com%2fauth%2fdocs.test%20https%3a%2f%2fwww.googleapis.com%2fauth%2fdrive%20https%3a%2f%2fwww.googleapis.com%2fauth%2fdrive.photos.readonly%20https%3a%2f%2fwww.googleapis.com%2fauth%2fpeopleapi.readonly\n",
            "\n",
            "Enter your authorization code:\n",
            "··········\n",
            "Mounted at /content/gdrive\n"
          ],
          "name": "stdout"
        }
      ]
    },
    {
      "cell_type": "code",
      "metadata": {
        "id": "SSE_VpRa2Iqs",
        "colab_type": "code",
        "colab": {}
      },
      "source": [
        "import pandas as pd\n",
        "import gzip\n",
        "import json"
      ],
      "execution_count": 0,
      "outputs": []
    },
    {
      "cell_type": "code",
      "metadata": {
        "id": "Ma1CTLC8160x",
        "colab_type": "code",
        "colab": {
          "base_uri": "https://localhost:8080/",
          "height": 71
        },
        "outputId": "fd208329-5317-475e-ee18-2c37b39fb2be"
      },
      "source": [
        "### load the meta data\n",
        "\n",
        "data = []\n",
        "#dfList = []\n",
        "with gzip.open(r\"/content/gdrive/My Drive/PROJECT | S7-S8/Data/meta_Grocery_and_Gourmet_Food.json.gz\") as f:\n",
        "    for l in f:\n",
        "        data.append(json.loads(l.strip()))\n",
        "#        frame = pd.DataFrame.from_dict(json_normalize(data), orient='columns')\n",
        "#        dfList.append(frame)\n",
        "\n",
        "#df = pd.concat(dfList) \n",
        "\n",
        "# total length of list, this number equals total number of products\n",
        "print(len(data))\n",
        "\n",
        "# first row of the list\n",
        "print(data[0])\n",
        "#print(df.head)"
      ],
      "execution_count": 3,
      "outputs": [
        {
          "output_type": "stream",
          "text": [
            "287209\n",
            "{'category': ['Grocery & Gourmet Food', 'Dairy, Cheese & Eggs', 'Cheese', 'Gouda'], 'description': ['BEEMSTER GOUDA CHEESE AGED 18/24 MONTHS', 'Statements regarding dietary supplements have not been evaluated by the FDA and are not intended to diagnose, treat, cure, or prevent any disease or health condition.'], 'title': 'Beemster Gouda - Aged 18/24 Months - App. 1.5 Lbs', 'brand': 'Ariola Imports', 'rank': '165,181inGroceryGourmetFood(', 'also_view': ['B0000D9MYM', 'B0000D9MYL', 'B00ADHIGBA', 'B00H9OX598', 'B001LM42GY', 'B001LM5TDY'], 'main_cat': 'Grocery', 'price': '$41.91', 'asin': '0681727810'}\n"
          ],
          "name": "stdout"
        }
      ]
    },
    {
      "cell_type": "code",
      "metadata": {
        "id": "9e-_ZZzx5Vqc",
        "colab_type": "code",
        "colab": {}
      },
      "source": [
        "with open('data.json', 'w') as fp:\n",
        "    json.dump(data, fp)"
      ],
      "execution_count": 0,
      "outputs": []
    },
    {
      "cell_type": "code",
      "metadata": {
        "id": "BhQLyZj93AyG",
        "colab_type": "code",
        "colab": {
          "base_uri": "https://localhost:8080/",
          "height": 255
        },
        "outputId": "4d0b61ea-8ca6-44b2-b54a-a4db85831f2e"
      },
      "source": [
        "df = pd.read_json('data.json')"
      ],
      "execution_count": 5,
      "outputs": [
        {
          "output_type": "stream",
          "text": [
            "<bound method NDFrame.head of                                                  category  ...  fit\n",
            "0       [Grocery & Gourmet Food, Dairy, Cheese & Eggs,...  ...  NaN\n",
            "1       [Grocery & Gourmet Food, Cooking & Baking, Sug...  ...  NaN\n",
            "2       [Grocery & Gourmet Food, Cooking & Baking, Fro...  ...  NaN\n",
            "3       [Grocery & Gourmet Food, Cooking & Baking, Fro...  ...  NaN\n",
            "4       [Grocery & Gourmet Food, Cooking & Baking, Fro...  ...  NaN\n",
            "...                                                   ...  ...  ...\n",
            "287204  [Grocery & Gourmet Food, Jams, Jellies & Sweet...  ...  NaN\n",
            "287205  [Grocery & Gourmet Food, Condiments & Salad Dr...  ...  NaN\n",
            "287206  [Grocery & Gourmet Food, Condiments & Salad Dr...  ...  NaN\n",
            "287207  [Grocery & Gourmet Food, Herbs, Spices & Seaso...  ...  NaN\n",
            "287208  [Grocery & Gourmet Food, Beverages, Bottled Be...  ...  NaN\n",
            "\n",
            "[287209 rows x 17 columns]>\n"
          ],
          "name": "stdout"
        }
      ]
    },
    {
      "cell_type": "code",
      "metadata": {
        "id": "DeKnR9if74S_",
        "colab_type": "code",
        "colab": {
          "base_uri": "https://localhost:8080/",
          "height": 153
        },
        "outputId": "43a6463e-debf-45be-b28e-1324c459ee44"
      },
      "source": [
        "print(df.head())"
      ],
      "execution_count": 6,
      "outputs": [
        {
          "output_type": "stream",
          "text": [
            "                                            category  ...  fit\n",
            "0  [Grocery & Gourmet Food, Dairy, Cheese & Eggs,...  ...  NaN\n",
            "1  [Grocery & Gourmet Food, Cooking & Baking, Sug...  ...  NaN\n",
            "2  [Grocery & Gourmet Food, Cooking & Baking, Fro...  ...  NaN\n",
            "3  [Grocery & Gourmet Food, Cooking & Baking, Fro...  ...  NaN\n",
            "4  [Grocery & Gourmet Food, Cooking & Baking, Fro...  ...  NaN\n",
            "\n",
            "[5 rows x 17 columns]\n"
          ],
          "name": "stdout"
        }
      ]
    },
    {
      "cell_type": "code",
      "metadata": {
        "id": "rOhLtU1D8CxU",
        "colab_type": "code",
        "colab": {
          "base_uri": "https://localhost:8080/",
          "height": 340
        },
        "outputId": "18009512-4b84-4d3c-df14-08da57623595"
      },
      "source": [
        "df = df[df['title'].notna()]\n",
        "df = df[df['asin'].notna()]\n",
        "df = df[df['price'].notna()]\n",
        "df = df[df['image'].notna()]\n",
        "\n",
        "print(df[['title', 'image', 'rank', 'price', 'asin']])"
      ],
      "execution_count": 11,
      "outputs": [
        {
          "output_type": "stream",
          "text": [
            "72322\n",
            "72322\n",
            "72322\n",
            "72322\n",
            "72322\n",
            "                                                    title  ...        asin\n",
            "10             Lipton Yellow Label Tea (loose tea) - 450g  ...  4639725043\n",
            "11      Lipton Yellow Label Finest Blend Tea Bags 100 ...  ...  4639725183\n",
            "14      Haldiram's Bhelpuri - A Mild Spicy Blend of Cr...  ...  541255556X\n",
            "15      Organo Gold Cafe Supreme 100% Certified Ganode...  ...  5463213682\n",
            "24            Dried Truffle Slices Premium Grade 185 Gram  ...  7107272160\n",
            "...                                                   ...  ...         ...\n",
            "287192  Akabanga Extra Hot Chilli Sauce (Spicy) 20 ml ...  ...  B01HJ3L48M\n",
            "287193  Buttermints - 13 oz. Bag - Approximately 100 I...  ...  B01HJ4FWGG\n",
            "287201  Amara Unique Venezuelan Flavors. Hot Chocolate...  ...  B01HJCUNOO\n",
            "287207  Gourmet Pure Vanilla Bean Pastes - Organically...  ...  B01HJHSVG6\n",
            "287208  McClure's Pickles Bloody Mary Mix-Spicy-32 oz ...  ...  B01HJFRDDA\n",
            "\n",
            "[72322 rows x 5 columns]\n"
          ],
          "name": "stdout"
        }
      ]
    },
    {
      "cell_type": "code",
      "metadata": {
        "id": "dnMkGaJx9cTm",
        "colab_type": "code",
        "colab": {
          "base_uri": "https://localhost:8080/",
          "height": 292
        },
        "outputId": "14ea1900-b679-44fc-c915-733e7aabf681"
      },
      "source": [
        "pid_test = ['B007JFMH8M', 'B001RVFEP2', 'B0013NUGDE', 'B0013A0QXC', 'B005K4Q1YA', 'B002LANN56', 'B003CIBPN8', 'B003TC7WN4', 'B003QNLUTI', 'B0018KR8V0', 'B008JKTH2A', 'B006H34CUS', 'B004CLCEDE', 'B005K4Q4KG', 'B006GA666U', 'B005IW4WFY', 'B003EML8PM', 'B004YV80OE', 'B004E4CCSQ', 'B008GRONV6', 'B001EQ55RW', 'B0012NUVN0', 'B005K4Q1RW', 'B001BCVY9W', 'B004YV80O4', 'B005A1LINC', 'B000FMZO90', 'B0012XBD7I', 'B000G6RYNE', 'B001OCKIP0', 'B005ZBZM52', 'B000I1OLT2', 'B004CYLW7A', 'B00004CXX9', 'B0030VBPN2', 'B004Q3LBTG', 'B007RTR9G0', 'B007TJGZ18', 'B00954NYVY', 'B004HOLD4W', 'B0002DGRZC', 'B0039556K2', 'B00020HHHC', 'B00020HHM2', 'B001P74NXM', 'B005GBIXZM', 'B006J4MAIQ', 'B000WFKWDI', 'B001181NBA', 'B00112ILZM']\n",
        "pid_train = ['B002QWHJOU', 'B002QWP8H0', 'B0026RQTGE', 'B002QWP89S', 'B003B3OOPA', 'B001EO5Q64', 'B006HYLW32', 'B000VK8AVK', 'B007M83302', 'B0026KNQSA', 'B0026KPDG8', 'B001RVFERK', 'B007M832YY', 'B000KV61FC', 'B000KV7ZGQ', 'B005K4Q4LK', 'B005K4Q37A', 'B005K4Q34S', 'B000UBD88A', 'B000NMJWZO', 'B0090X8IPM', 'B003GTR8IO', 'B007Y59HVM', 'B005ZBZLT4', 'B006MONQMC', 'B002IEVJRY', 'B000PDY3HI', 'B000PDY3P0', 'B002IEZJMA', 'B002YJ0118', 'B000PDWBKO', 'B001VJ0B0I', 'B008FHUGNQ', 'B006N3HZ6K', 'B0029XLH4Y', 'B007TJGY46', 'B000CNB4LE', 'B004SRFYMK', 'B004SRH2B6', 'B003VXHGE6', 'B003VXHGDM', 'B006N3IE6A', 'B003VXL0V6', 'B003VXHGPK', 'B003VXFK44', 'B006N3IG4K', 'B004FGWU9O', 'B0041NYV8E', 'B000H0ZJHW', 'B000H1217M', 'B000BRR8VQ', 'B0007A0AQW', 'B0007A0AQM', 'B000H0ZJIG', 'B001AS1A4Q', 'B003D4F1QS', 'B0029ZAOW8', 'B003D4MW38', 'B003D4IYSU', 'B003D4MYLS', 'B000GAT6NG', 'B004EAGP74', 'B001E8DHPW', 'B005HG9ESG', 'B004GW6O9E', 'B000ENUC3S', 'B005HG9ERW', 'B005HG9ET0', 'B0018KLPFK', 'B008JKTTUA', 'B003TNANSO', 'B001D09KAM', 'B008JKSJJ2', 'B008JKU2CO', 'B001D0DMMY', 'B001D0DMME', 'B0051COPH6', 'B003QNJYXM', 'B007I7Z3Z0', 'B007I7YZJK', 'B001EO5U3I', 'B008J1HO4C', 'B001LG945O', 'B001LG940E', 'B001LGGH40', 'B003Z6W32E', 'B00451WLYI', 'B003Z6ZGZK', 'B00438XVGU', 'B0034EFIYC', 'B0034EDMLI', 'B0034EDMCW', 'B0034EDLS2', 'B0034EDM2W', 'B004ZIER34', 'B000EVOSE4', 'B005K4Q68Q', 'B0076MLL12', 'B005K4Q1T0', 'B001LGGH54', 'B005K4Q1VI', 'B000H7LVKY', 'B000UUWECC', 'B008ZRKZSM', 'B002GJ9JWS', 'B002GJ9JY6', 'B001RVFDOO', 'B0032CJPOK', 'B0081XPTBS', 'B004BKLHOS', 'B001D0IZBM', 'B007PA33NY', 'B006N3I0DM', 'B003XDH6M6', 'B004JGQ15E', 'B008RWUHA6', 'B008RWUKXK', 'B000DZFMEQ', 'B004TPKAN4', 'B004FEN3GK', 'B004U49QU2', 'B003EM7J9Q', 'B0001ES9F8', 'B005VOOKS8', 'B005VOOM4A', 'B005VOOM5E', 'B005VOOLXM', 'B005VOONLW', 'B005VOONKI', 'B005VOOM2W', 'B0061IUIDY', 'B005VOONM6', 'B005VOOL00', 'B005VOONGM', 'B005VOONI0', 'B0083T5TAQ', 'B004OAZ36I', 'B000FFIL92', 'B004JRKEH4', 'B0045XE32E', 'B001ELL60W', 'B00305L330', 'B005ZBZLSU', 'B002GKEK7G', 'B007TGDXNO', 'B004E4EBMG', 'B003E728CE', 'B000QSON4K', 'B001BS4G6O', 'B002AQ0OW6', 'B000HDK0DC', 'B0049ULB78', 'B001M2BM4I', 'B0032CB15Q', 'B007PA30ZU', 'B004779XNW', 'B00474CSVE', 'B001EO5Y8Y', 'B003QDRJXY', 'B004U43ZO0', 'B004MO6NI8', 'B002NHYQAS', 'B000HDK0D2', 'B003FDG4K4', 'B0012V1G0Y', 'B005V9UG18', 'B003FDC2I2', 'B0009YJ4CW', 'B008FHUKE6', 'B0029XDZKI', 'B002ZX1U9A', 'B006N3I1HM', 'B000HDI5O8', 'B000TQEWM2', 'B007TJGZ4A', 'B0062A87HA', 'B006Q820X0', 'B005K4Q1W2', 'B003Z6ZGZU', 'B007PA32L2', 'B004TJF3BE', 'B000NBQUNW', 'B009RB4GO4', 'B005HGAV8I', 'B001BCVY4W', 'B001BDDTB2', 'B001BCXTGS', 'B001BDDT8K', 'B005A1LJ04', 'B003JA5KKS', 'B0047RQ9M0', 'B007TJGZ54', 'B007PA30TG', 'B001EYUE5M', 'B009E7YC54', 'B008BY7NSE', 'B004P4POZ8', 'B001LQCOIS', 'B004WTHCO2', 'B004391DK0', 'B006N3I29E', 'B000VK08OC', 'B0083T6HC0', 'B000FMZO8G', 'B005BRHVD6', 'B002AQ0OL2', 'B001EQ55ZO', 'B000V17MLS', 'B001P3PR54', 'B0019QT66I', 'B002LN1ME2', 'B00125ZCWI', 'B001E0TBA0', 'B003SSWCJI', 'B0009F3POY', 'B000WVYB8Y', 'B000WVY4PE', 'B001E18K8S', 'B000OQ2DJQ', 'B000OQ2DL4', 'B004728MI4', 'B00472I5A4', 'B006WYSFZK', 'B001SAXPEO', 'B004E4HUMY', 'B000G6O2QG', 'B0058AMY10', 'B000LKXBL4', 'B0058AMY5G', 'B000LKVD5U', 'B000G6MBUA', 'B0058AMY74', 'B0058AMYTC', 'B0098WV8F2', 'B001EQ5JLE', 'B004JRO1S2', 'B0016PC4TS', 'B007TGDXMK', 'B000CQG8K8', 'B000CQBZPG', 'B003CK7O36', 'B000CQC064', 'B000CQID6U', 'B000CQG8KS', 'B000CQIDHY', 'B000CQC05U', 'B000LQORDE', 'B004JRMG98', 'B000CQC08C', 'B004FEN3GA', 'B000CQE3NM', 'B001HTKOWC', 'B000JOE224', 'B000SDKDM4', 'B003CK2BQG', 'B001FSJCPK', 'B001FCFYU8', 'B000CQG8AS', 'B001TLY7A8', 'B001TM70V0', 'B001TLY7BM', 'B001TM70XS', 'B0001ES9FI', 'B001AJ1ULS', 'B00141UC9I', 'B00141OU50', 'B00141WDXG', 'B0044CPA28', 'B00141OX52', 'B004FELBH8', 'B004K30HO2', 'B000EDDS6Q', 'B003ZT61E2', 'B000EVG8H4', 'B000CQE3HS', 'B000CQE3IC', 'B000CQID1K', 'B0030VBQ5Y', 'B0030VJ70K', 'B000RI1W8E', 'B000CQID1A', 'B0030VJ79Q', 'B005GTWCTM', 'B005GX00BK', 'B005GX8MMO', 'B005GXHKSG', 'B001E5E0D8', 'B005GRCWDU', 'B004T3QMD8', 'B000FI4O90', 'B000REI2X6', 'B00004CI84', 'B00004RYGX', 'B005SPQENY', 'B001P3NU30', 'B000FA38ZY', 'B007RTR9DS', 'B005A1LGIY', 'B001D0GV90', 'B000X1Q1G8', 'B0041CIP3M', 'B0029XDZDK', 'B001L4JH5I', 'B00248EE4O', 'B000YSRK7E', 'B001AHL6CI', 'B001AHFVHO', 'B001KTA03C', 'B006N3I3I4', 'B00954NY46', 'B001AHJ2FQ', 'B000YSTIL0', 'B001AHJ2D8', 'B000084E6V', 'B0015MY6PC', 'B000Q5X8DK', 'B000Q5X876', 'B000ET4SM8', 'B000Q611U6', 'B001EQ4QJK', 'B004HOLD92', 'B000ZSZ5S4', 'B004HOOZEW', 'B001EQ4RBM', 'B004HOSGWE', 'B004HOQE64', 'B004HOLD60', 'B007JFXWRC', 'B001LNTY70', 'B001KVPBS4', 'B001EQ4P2I', '7310172001', 'B000255OIG', 'B0002DGRPC', 'B0002DGRQ6', 'B001B4VOQI', 'B0002DGRRA', 'B0002DGRSY', '7310172101', 'B002DHTWNO', 'B00817GPWQ', 'B0078Y6OX8', 'B00395570G', 'B003JA5KLM', 'B007TJGZ5E', 'B008GRIB0A', 'B00315WGNK', 'B00395DVQS', 'B005ZBZLPI', 'B0078Y6CN0', 'B007PA32OE', 'B00004RAMY', 'B001J9QBU4', 'B00020HHK4', 'B00020HHAO', 'B0014ATRV8', 'B000M0F58U', 'B00073IVAQ', 'B000HJ7AIY', 'B00073JVFU', 'B000FVBYCW', 'B00020HHGS', 'B00142BX68', 'B00020HHE0', 'B00188S3PM', 'B000YSQ9GC', 'B000VJYTZM', 'B0014B0HWK', 'B0014AUJII', 'B00020HHRW', 'B000YSTGGW', 'B00014DXCC', 'B007RLRCLK', 'B0016B7Z32', 'B00412W76S', 'B0009VO58S', 'B001GCTTRQ', 'B000FVDWU4', 'B000YSS7EO', 'B0006I5M2M', 'B000CQIDHE', 'B000CQC05K', 'B000CQC050', 'B000CQID2Y', 'B000CQC04Q', 'B004OQBC8K', 'B0012BUR8Q', 'B000CQIDHO', 'B003CK0XC0', 'B000CQBZOW', 'B000CQG87Q', 'B007R900WA', 'B000CQG89Y', 'B002HQLY7S', 'B003N0ZEKU', 'B004X3VRLG', 'B007TJGZ0Y', 'B002D4DY8G', 'B004FEJ968', 'B005PIJQC0', 'B005P6TCGW', 'B0075JTH7Q', 'B005PANYEY', 'B008O3G2GG', 'B005CUU23S', 'B008O3G2K2', 'B005CUU25G', 'B005GYULZY', 'B008O3G25W', 'B0041CIR62', 'B002TSA91G', 'B002TSA91Q', 'B000FI2VHM', 'B002QGK2V8', 'B000FI61OQ', 'B0083QJU72', 'B00271OPVU', 'B006J4MAUE', 'B0009ETA6W', 'B0009ETA76', 'B007PE7ANY', 'B002DLXXHG', 'B004JRXZKM', 'B0033HPPIO', 'B007TJGY4Q', 'B006N3HYYS', 'B00139ZPKM', 'B00139TT72', 'B000FFLHSY', 'B007TJGY5K', 'B000ILILLQ', 'B001AIQP8M', 'B001EO77FC', 'B000ILILM0', 'B000VK33C6', 'B001D0GVAO', 'B008FHUFAU', 'B007OXJK3Y', 'B001EO77FW', 'B006N3I0N2', 'B0043WOANY', 'B008CTBK7S', 'B000WFN0VO', 'B000WFPJIG', 'B005DFL4PM', 'B000WFKI82', 'B002AQ0OS0', 'B000WFORH0', 'B008BY7O9W', 'B000WFU8O6', 'B000084EZ4', 'B000WFEN74', 'B000WFRQQ4', 'B00008CQVA', 'B000WFUL3E', 'B005PXZ6JM', 'B001OHX1ZY', 'B000WB1YSE', 'B0030VJ9K8', 'B0030VJ8YU', 'B001JU81ZG', 'B0030VJ97Q', 'B0030VBRIU', 'B008YA1NWC', 'B003G52BN0', 'B0008IT4OM', 'B002OL2MWM', 'B0030VBQOK', 'B0030VBRCG', 'B0030VJ8E0', 'B008I1XPKA', 'B0030VJ8PE', 'B0030VJ818', 'B001P05K8Q', 'B000IHJEDE', 'B000EML7DS', 'B000IHNCQO', 'B003AZ2ECY', 'B003A199AI', 'B0039ZOZ86', 'B0039LVLS2', 'B001OCKIBY', 'B003BJZMSM', 'B0032BXUJM', 'B00866AM2G', 'B0045IO37Y', 'B000EVG8FQ', 'B001CWX7EG', 'B000EVG8HY', 'B000EVIDWW', 'B001CWSKFC', 'B007TGDXMU', 'B001CWV4RS', 'B001NXM3I0', 'B001NXM3GM', 'B001NXHY8Y', 'B0040K41MY', 'B000FNEX8C', 'B000FNH1C2', 'B000FNB3AI', 'B00014JYNO', 'B001GL6GBE', 'B001OCBT3U', 'B000FRSSFC', 'B000UVBYRM', 'B000F6SNPS', 'B004OVWQDA', 'B002HFPW6I', 'B003A23HZK', 'B0002ARQYQ', 'B000FL08B0', 'B0012C2GFM', 'B0006Z7NOK', 'B000ESLJ6C', 'B000DZDJ0K', 'B003JA5KBW', 'B005HUVI0E', 'B007L3NVKU', 'B0045Z6K50', 'B0029NVJX8', 'B000SATIE6', 'B0029O10P4', 'B005P0NLJ2', 'B005GIF5UQ', 'B0029NVJ4M', 'B005GIF5WY', 'B0029NVJNI', 'B0012C7VLG', 'B001EQ4OWO', 'B000CRHQN0', 'B005GIF5VU', 'B0029NTQ1K', 'B000GAT6MM', 'B001KQAR24', 'B0041LHND6', 'B002AQP5MK', 'B001D0676C', 'B000CPZSC8', 'B001E5E3JY', 'B001PQTYN2', 'B000E8WIAS', 'B003KRHDMI', 'B0081XIAOQ', 'B000CQ01NS', 'B0081XIASW', 'B0081XIA1E', 'B006N3I69A', 'B0081XIAUK', 'B001D9JC0G', 'B001QE7J2G']\n",
        "pids = pid_test + pid_train\n",
        "\n",
        "no_data = []\n",
        "yes_data = []\n",
        "\n",
        "meta_data_pid_list = pd.DataFrame(columns = ['asin', 'title', 'price', 'image', 'rank'])\n",
        "for pid in pids:\n",
        "  temp_df = df.loc[df['asin'] == pid]\n",
        "  if len(temp_df[['title']]) > 0:\n",
        "#    print(pid, temp_df[['title']])\n",
        "    yes_data.append(pid)\n",
        "    meta_data_pid_list = meta_data_pid_list.append({'asin':temp_df['asin'].values[0],'title': temp_df['title'].values[0], 'price': temp_df['price'].values[0], 'image': temp_df['image'].values[0], 'rank': temp_df['rank'].values[0]}, ignore_index=True)\n",
        "  else :\n",
        "    no_data.append(pid)\n",
        "\n",
        "print(meta_data_pid_list)\n",
        "print(no_data)"
      ],
      "execution_count": 33,
      "outputs": [
        {
          "output_type": "stream",
          "text": [
            "          asin  ...                          rank\n",
            "0   B005K4Q1YA  ...    1,520inGroceryGourmetFood(\n",
            "1   B003EML8PM  ...   75,163inGroceryGourmetFood(\n",
            "2   B004YV80OE  ...  165,990inGroceryGourmetFood(\n",
            "3   B0012XBD7I  ...  265,854inGroceryGourmetFood(\n",
            "4   B005ZBZM52  ...  107,360inGroceryGourmetFood(\n",
            "..         ...  ...                           ...\n",
            "88  B005P0NLJ2  ...  251,104inGroceryGourmetFood(\n",
            "89  B002AQP5MK  ...   82,939inGroceryGourmetFood(\n",
            "90  B001E5E3JY  ...    3,111inGroceryGourmetFood(\n",
            "91  B000E8WIAS  ...                           NaN\n",
            "92  B000CQ01NS  ...    2,238inGroceryGourmetFood(\n",
            "\n",
            "[93 rows x 5 columns]\n",
            "['B007JFMH8M', 'B001RVFEP2', 'B0013NUGDE', 'B0013A0QXC', 'B002LANN56', 'B003CIBPN8', 'B003TC7WN4', 'B003QNLUTI', 'B0018KR8V0', 'B008JKTH2A', 'B006H34CUS', 'B004CLCEDE', 'B005K4Q4KG', 'B006GA666U', 'B005IW4WFY', 'B004E4CCSQ', 'B008GRONV6', 'B001EQ55RW', 'B0012NUVN0', 'B005K4Q1RW', 'B001BCVY9W', 'B004YV80O4', 'B005A1LINC', 'B000FMZO90', 'B000G6RYNE', 'B001OCKIP0', 'B004CYLW7A', 'B00004CXX9', 'B0030VBPN2', 'B004Q3LBTG', 'B007RTR9G0', 'B007TJGZ18', 'B00954NYVY', 'B004HOLD4W', 'B0002DGRZC', 'B0039556K2', 'B00020HHHC', 'B00020HHM2', 'B005GBIXZM', 'B006J4MAIQ', 'B000WFKWDI', 'B00112ILZM', 'B002QWHJOU', 'B002QWP8H0', 'B0026RQTGE', 'B002QWP89S', 'B003B3OOPA', 'B001EO5Q64', 'B006HYLW32', 'B000VK8AVK', 'B007M83302', 'B0026KNQSA', 'B0026KPDG8', 'B001RVFERK', 'B007M832YY', 'B000KV61FC', 'B000KV7ZGQ', 'B005K4Q34S', 'B000UBD88A', 'B000NMJWZO', 'B0090X8IPM', 'B003GTR8IO', 'B007Y59HVM', 'B006MONQMC', 'B002IEVJRY', 'B000PDY3HI', 'B002IEZJMA', 'B002YJ0118', 'B000PDWBKO', 'B001VJ0B0I', 'B008FHUGNQ', 'B006N3HZ6K', 'B0029XLH4Y', 'B007TJGY46', 'B000CNB4LE', 'B004SRFYMK', 'B003VXHGE6', 'B003VXHGDM', 'B006N3IE6A', 'B003VXL0V6', 'B003VXHGPK', 'B003VXFK44', 'B006N3IG4K', 'B004FGWU9O', 'B0041NYV8E', 'B000H0ZJHW', 'B000H1217M', 'B000BRR8VQ', 'B0007A0AQW', 'B0007A0AQM', 'B000H0ZJIG', 'B001AS1A4Q', 'B003D4F1QS', 'B0029ZAOW8', 'B003D4MW38', 'B003D4IYSU', 'B003D4MYLS', 'B004EAGP74', 'B004GW6O9E', 'B000ENUC3S', 'B005HG9ERW', 'B005HG9ET0', 'B0018KLPFK', 'B008JKTTUA', 'B003TNANSO', 'B001D09KAM', 'B008JKSJJ2', 'B008JKU2CO', 'B001D0DMMY', 'B001D0DMME', 'B0051COPH6', 'B007I7Z3Z0', 'B007I7YZJK', 'B008J1HO4C', 'B001LG945O', 'B001LGGH40', 'B003Z6W32E', 'B00451WLYI', 'B003Z6ZGZK', 'B00438XVGU', 'B0034EFIYC', 'B0034EDMLI', 'B0034EDMCW', 'B0034EDLS2', 'B0034EDM2W', 'B004ZIER34', 'B000EVOSE4', 'B005K4Q68Q', 'B0076MLL12', 'B001LGGH54', 'B005K4Q1VI', 'B000H7LVKY', 'B000UUWECC', 'B002GJ9JWS', 'B001RVFDOO', 'B0032CJPOK', 'B0081XPTBS', 'B004BKLHOS', 'B007PA33NY', 'B006N3I0DM', 'B003XDH6M6', 'B004JGQ15E', 'B008RWUHA6', 'B008RWUKXK', 'B004TPKAN4', 'B004FEN3GK', 'B004U49QU2', 'B0001ES9F8', 'B005VOOKS8', 'B005VOOM4A', 'B005VOOM5E', 'B005VOOLXM', 'B005VOONLW', 'B005VOONKI', 'B005VOOM2W', 'B0061IUIDY', 'B005VOONM6', 'B005VOOL00', 'B005VOONGM', 'B005VOONI0', 'B0083T5TAQ', 'B004OAZ36I', 'B004JRKEH4', 'B0045XE32E', 'B001ELL60W', 'B00305L330', 'B002GKEK7G', 'B007TGDXNO', 'B004E4EBMG', 'B003E728CE', 'B000QSON4K', 'B001BS4G6O', 'B002AQ0OW6', 'B0049ULB78', 'B001M2BM4I', 'B0032CB15Q', 'B007PA30ZU', 'B004779XNW', 'B00474CSVE', 'B003QDRJXY', 'B004U43ZO0', 'B004MO6NI8', 'B002NHYQAS', 'B000HDK0D2', 'B003FDG4K4', 'B0012V1G0Y', 'B005V9UG18', 'B003FDC2I2', 'B0009YJ4CW', 'B008FHUKE6', 'B0029XDZKI', 'B002ZX1U9A', 'B006N3I1HM', 'B000HDI5O8', 'B000TQEWM2', 'B007TJGZ4A', 'B0062A87HA', 'B006Q820X0', 'B005K4Q1W2', 'B003Z6ZGZU', 'B007PA32L2', 'B004TJF3BE', 'B000NBQUNW', 'B009RB4GO4', 'B005HGAV8I', 'B001BCVY4W', 'B001BDDTB2', 'B001BCXTGS', 'B001BDDT8K', 'B005A1LJ04', 'B003JA5KKS', 'B0047RQ9M0', 'B007TJGZ54', 'B007PA30TG', 'B009E7YC54', 'B008BY7NSE', 'B004P4POZ8', 'B001LQCOIS', 'B004WTHCO2', 'B006N3I29E', 'B000VK08OC', 'B0083T6HC0', 'B000FMZO8G', 'B005BRHVD6', 'B002AQ0OL2', 'B001EQ55ZO', 'B000V17MLS', 'B001P3PR54', 'B0019QT66I', 'B002LN1ME2', 'B00125ZCWI', 'B001E0TBA0', 'B003SSWCJI', 'B0009F3POY', 'B000WVYB8Y', 'B000WVY4PE', 'B001E18K8S', 'B000OQ2DJQ', 'B000OQ2DL4', 'B004728MI4', 'B00472I5A4', 'B006WYSFZK', 'B001SAXPEO', 'B004E4HUMY', 'B000G6O2QG', 'B0058AMY10', 'B000LKXBL4', 'B0058AMY5G', 'B000LKVD5U', 'B000G6MBUA', 'B0058AMY74', 'B004JRO1S2', 'B0016PC4TS', 'B007TGDXMK', 'B000CQG8K8', 'B000CQC064', 'B000CQID6U', 'B000CQC05U', 'B004JRMG98', 'B004FEN3GA', 'B000JOE224', 'B000SDKDM4', 'B001FSJCPK', 'B001FCFYU8', 'B001TLY7A8', 'B001TM70V0', 'B001TLY7BM', 'B001TM70XS', 'B0001ES9FI', 'B001AJ1ULS', 'B00141UC9I', 'B00141OU50', 'B00141WDXG', 'B0044CPA28', 'B00141OX52', 'B004FELBH8', 'B004K30HO2', 'B000EDDS6Q', 'B000CQE3IC', 'B000CQID1K', 'B0030VBQ5Y', 'B0030VJ70K', 'B000RI1W8E', 'B000CQID1A', 'B0030VJ79Q', 'B005GX8MMO', 'B005GXHKSG', 'B004T3QMD8', 'B000FI4O90', 'B00004CI84', 'B00004RYGX', 'B005SPQENY', 'B001P3NU30', 'B000FA38ZY', 'B007RTR9DS', 'B005A1LGIY', 'B001D0GV90', 'B000X1Q1G8', 'B0041CIP3M', 'B0029XDZDK', 'B00248EE4O', 'B000YSRK7E', 'B001AHL6CI', 'B001AHFVHO', 'B001KTA03C', 'B006N3I3I4', 'B00954NY46', 'B001AHJ2FQ', 'B000YSTIL0', 'B001AHJ2D8', 'B000084E6V', 'B0015MY6PC', 'B000Q5X8DK', 'B000ET4SM8', 'B000Q611U6', 'B001EQ4QJK', 'B004HOLD92', 'B004HOOZEW', 'B001EQ4RBM', 'B004HOSGWE', 'B004HOQE64', 'B007JFXWRC', 'B001LNTY70', 'B001KVPBS4', 'B001EQ4P2I', '7310172001', 'B000255OIG', 'B0002DGRPC', 'B0002DGRQ6', 'B001B4VOQI', 'B0002DGRRA', 'B0002DGRSY', '7310172101', 'B002DHTWNO', 'B00817GPWQ', 'B00395570G', 'B003JA5KLM', 'B008GRIB0A', 'B00315WGNK', 'B005ZBZLPI', 'B0078Y6CN0', 'B007PA32OE', 'B00004RAMY', 'B001J9QBU4', 'B00020HHK4', 'B00020HHAO', 'B0014ATRV8', 'B000M0F58U', 'B00073IVAQ', 'B000HJ7AIY', 'B00073JVFU', 'B000FVBYCW', 'B00020HHGS', 'B00142BX68', 'B00020HHE0', 'B00188S3PM', 'B000YSQ9GC', 'B000VJYTZM', 'B0014B0HWK', 'B0014AUJII', 'B00020HHRW', 'B000YSTGGW', 'B00014DXCC', 'B007RLRCLK', 'B0016B7Z32', 'B00412W76S', 'B0009VO58S', 'B001GCTTRQ', 'B000FVDWU4', 'B000YSS7EO', 'B0006I5M2M', 'B004OQBC8K', 'B003CK0XC0', 'B007R900WA', 'B000CQG89Y', 'B003N0ZEKU', 'B004X3VRLG', 'B007TJGZ0Y', 'B002D4DY8G', 'B004FEJ968', 'B005PIJQC0', 'B005P6TCGW', 'B0075JTH7Q', 'B005PANYEY', 'B008O3G2GG', 'B005CUU23S', 'B008O3G2K2', 'B005CUU25G', 'B005GYULZY', 'B008O3G25W', 'B0041CIR62', 'B002TSA91G', 'B002TSA91Q', 'B000FI2VHM', 'B002QGK2V8', 'B000FI61OQ', 'B0083QJU72', 'B006J4MAUE', 'B0009ETA6W', 'B0009ETA76', 'B007PE7ANY', 'B002DLXXHG', 'B007TJGY4Q', 'B00139ZPKM', 'B00139TT72', 'B007TJGY5K', 'B000ILILLQ', 'B001AIQP8M', 'B001EO77FC', 'B000VK33C6', 'B001D0GVAO', 'B008FHUFAU', 'B007OXJK3Y', 'B001EO77FW', 'B006N3I0N2', 'B0043WOANY', 'B008CTBK7S', 'B000WFN0VO', 'B000WFPJIG', 'B000WFKI82', 'B002AQ0OS0', 'B000WFORH0', 'B008BY7O9W', 'B000WFU8O6', 'B000084EZ4', 'B000WFEN74', 'B000WFRQQ4', 'B00008CQVA', 'B000WFUL3E', 'B005PXZ6JM', 'B001OHX1ZY', 'B0030VJ9K8', 'B0030VJ8YU', 'B001JU81ZG', 'B0030VJ97Q', 'B0030VBRIU', 'B008YA1NWC', 'B003G52BN0', 'B002OL2MWM', 'B0030VBQOK', 'B0030VBRCG', 'B0030VJ8E0', 'B008I1XPKA', 'B0030VJ8PE', 'B0030VJ818', 'B001P05K8Q', 'B000IHJEDE', 'B000EML7DS', 'B000IHNCQO', 'B003A199AI', 'B0039LVLS2', 'B001OCKIBY', 'B003BJZMSM', 'B0032BXUJM', 'B00866AM2G', 'B000EVG8FQ', 'B000EVIDWW', 'B001CWSKFC', 'B007TGDXMU', 'B001CWV4RS', 'B001NXM3I0', 'B001NXM3GM', 'B001NXHY8Y', 'B0040K41MY', 'B000FNEX8C', 'B000FNH1C2', 'B000FNB3AI', 'B00014JYNO', 'B001OCBT3U', 'B000UVBYRM', 'B004OVWQDA', 'B002HFPW6I', 'B003A23HZK', 'B0002ARQYQ', 'B000FL08B0', 'B0012C2GFM', 'B0006Z7NOK', 'B003JA5KBW', 'B005HUVI0E', 'B007L3NVKU', 'B0045Z6K50', 'B0029NVJX8', 'B000SATIE6', 'B0029O10P4', 'B005GIF5UQ', 'B0029NVJ4M', 'B005GIF5WY', 'B0029NVJNI', 'B0012C7VLG', 'B001EQ4OWO', 'B000CRHQN0', 'B005GIF5VU', 'B0029NTQ1K', 'B000GAT6MM', 'B001KQAR24', 'B0041LHND6', 'B001D0676C', 'B000CPZSC8', 'B001PQTYN2', 'B003KRHDMI', 'B0081XIAOQ', 'B0081XIASW', 'B0081XIA1E', 'B006N3I69A', 'B0081XIAUK', 'B001D9JC0G', 'B001QE7J2G']\n"
          ],
          "name": "stdout"
        }
      ]
    },
    {
      "cell_type": "code",
      "metadata": {
        "id": "P6cf8y3vE6AA",
        "colab_type": "code",
        "colab": {
          "base_uri": "https://localhost:8080/",
          "height": 54
        },
        "outputId": "6b3e5a1e-522a-4c16-cd86-bdc672195ae8"
      },
      "source": [
        "import random\n",
        "pids = random.sample(yes_data, 70)\n",
        "print(pids)"
      ],
      "execution_count": 52,
      "outputs": [
        {
          "output_type": "stream",
          "text": [
            "['B000CQG8KS', 'B004JRXZKM', 'B0058AMYTC', 'B005K4Q4LK', 'B005GTWCTM', 'B003EM7J9Q', 'B001181NBA', 'B000CQBZOW', 'B001E8DHPW', 'B000CQIDHO', 'B000CQBZPG', 'B001L4JH5I', 'B000WB1YSE', 'B008ZRKZSM', 'B001GL6GBE', 'B003CK2BQG', 'B000CQIDHY', 'B0033HPPIO', 'B002AQP5MK', 'B001E5E3JY', 'B0078Y6OX8', 'B005K4Q37A', 'B000GAT6NG', 'B000REI2X6', 'B001LG940E', 'B004YV80OE', 'B003AZ2ECY', 'B001EO5U3I', 'B005GX00BK', 'B000CQID2Y', 'B000CQC050', 'B001EQ5JLE', 'B005HG9ESG', 'B003CK7O36', 'B0012BUR8Q', 'B005ZBZLSU', 'B003EML8PM', 'B000PDY3P0', 'B000CQC08C', 'B000DZFMEQ', 'B000CQC05K', 'B005DFL4PM', 'B0039ZOZ86', 'B001CWX7EG', 'B005K4Q1T0', 'B00271OPVU', 'B000EVG8HY', 'B001EO5Y8Y', 'B002GJ9JY6', 'B001P74NXM', 'B005K4Q1YA', 'B000ZSZ5S4', 'B000HDK0DC', 'B003QNJYXM', 'B000ESLJ6C', 'B000F6SNPS', 'B000CQE3NM', 'B000LQORDE', 'B000FRSSFC', 'B0008IT4OM', 'B004SRH2B6', 'B000I1OLT2', 'B000DZDJ0K', 'B007TJGZ5E', 'B001EYUE5M', 'B0098WV8F2', 'B006N3HYYS', 'B001HTKOWC', 'B000CQIDHE', 'B005ZBZLT4']\n"
          ],
          "name": "stdout"
        }
      ]
    },
    {
      "cell_type": "code",
      "metadata": {
        "id": "iyEI8svsDJM7",
        "colab_type": "code",
        "colab": {
          "base_uri": "https://localhost:8080/",
          "height": 904
        },
        "outputId": "f3681a94-95cb-41e1-b567-b48571308fa3"
      },
      "source": [
        "#pids = ['B004SRH2B6', 'B0098WV8F2', 'B000CQIDHE', 'B001GL6GBE', 'B001EO5U3I', 'B005ZBZLT4', 'B001E5E3JY', 'B000WB1YSE', 'B000CQG8KS', 'B000DZDJ0K', 'B000F6SNPS', 'B001LG940E', 'B000Q5X876', 'B001EQ5JLE', 'B001P74NXM', 'B001CWX7EG', 'B000CQID2Y', 'B000CQE3HS', 'B000CQG8AS', 'B006N3HYYS', 'B000CQIDHY', 'B000CQ01NS', 'B000DZFMEQ', 'B000PDY3P0', 'B000CQG87Q', 'B004YV80OE', 'B000EVG8H4', 'B005ZBZLSU', 'B002GJ9JY6', 'B004HOLD60', 'B003AZ2ECY', 'B005GX00BK', 'B001D0IZBM', 'B003QNJYXM', 'B0058AMYTC', 'B000FFIL92', 'B002AQP5MK', 'B000CQC05K', 'B001EYUE5M', 'B005K4Q4LK', 'B00271OPVU', 'B000CQBZOW', 'B000CQC050', 'B005K4Q37A', 'B005P0NLJ2', 'B000I1OLT2', 'B0039ZOZ86', 'B000CQE3NM', 'B007TJGZ5E', 'B000ZSZ5S4']\n",
        "final_test_pids = []\n",
        "pids = ['B000CQG8KS', 'B004JRXZKM', 'B0058AMYTC', 'B005K4Q4LK', 'B005GTWCTM', 'B003EM7J9Q', 'B000CQBZOW', 'B000CQIDHO', 'B000CQBZPG', 'B001L4JH5I', 'B000WB1YSE', 'B008ZRKZSM', 'B001GL6GBE', 'B003CK2BQG', 'B000CQIDHY', 'B0033HPPIO', 'B002AQP5MK', 'B001E5E3JY', 'B0078Y6OX8', 'B005K4Q37A', 'B000GAT6NG', 'B000REI2X6', 'B001LG940E', 'B003AZ2ECY', 'B005GX00BK', 'B000CQID2Y', 'B000CQC050', 'B005HG9ESG', 'B003CK7O36', 'B0012BUR8Q', 'B005ZBZLSU', 'B000PDY3P0', 'B000CQC08C', 'B000DZFMEQ', 'B000CQC05K', 'B005DFL4PM', 'B0039ZOZ86', 'B001CWX7EG', 'B005K4Q1T0', 'B000EVG8HY', 'B001EO5Y8Y', 'B002GJ9JY6', 'B000ZSZ5S4', 'B000HDK0DC', 'B003QNJYXM', 'B000ESLJ6C', 'B000F6SNPS', 'B000CQE3NM', 'B000LQORDE', 'B000FRSSFC', 'B0008IT4OM', 'B004SRH2B6', 'B000DZDJ0K', 'B007TJGZ5E', 'B001EYUE5M', 'B0098WV8F2', 'B006N3HYYS', 'B000CQIDHE', 'B005ZBZLT4']\n",
        "\n",
        "test_df = pd.read_csv(r\"/content/gdrive/My Drive/PROJECT | S7-S8/Data/training_seq2seq.csv\")\n",
        "for pid in pids:\n",
        "  if len(test_df.loc[test_df['ProductId'] == pid])<5:\n",
        "    print(pid, len(test_df.loc[test_df['ProductId'] == pid]))\n",
        "  else:\n",
        "    final_test_pids.append(pid)\n",
        "\n",
        "final_test_pids = random.sample(final_test_pids, 50)\n",
        "\n",
        "print(final_test_pids)\n",
        "for pid in final_test_pids:\n",
        "  temp_df = df.loc[df['asin'] == pid]\n",
        "  print(pid, temp_df['price'].values[0],temp_df['title'].values[0], temp_df['image'].values[0])"
      ],
      "execution_count": 61,
      "outputs": [
        {
          "output_type": "stream",
          "text": [
            "['B000CQE3NM', 'B001L4JH5I', 'B003EM7J9Q', 'B000CQID2Y', 'B005K4Q1T0', 'B000DZFMEQ', 'B001GL6GBE', 'B003CK7O36', 'B003QNJYXM', 'B000ZSZ5S4', 'B001EO5Y8Y', 'B000CQC08C', 'B0039ZOZ86', 'B005K4Q37A', 'B000REI2X6', 'B000PDY3P0', 'B005ZBZLSU', 'B002GJ9JY6', 'B006N3HYYS', 'B000CQIDHY', 'B001E5E3JY', 'B000F6SNPS', 'B005ZBZLT4', 'B000CQIDHO', 'B0008IT4OM', 'B003CK2BQG', 'B000ESLJ6C', 'B000HDK0DC', 'B001EYUE5M', 'B005DFL4PM', 'B001CWX7EG', 'B000DZDJ0K', 'B000CQBZOW', 'B004SRH2B6', 'B005GX00BK', 'B007TJGZ5E', 'B008ZRKZSM', 'B000CQG8KS', 'B000CQC05K', 'B0058AMYTC', 'B005HG9ESG', 'B000GAT6NG', 'B000CQIDHE', 'B000WB1YSE', 'B0012BUR8Q', 'B0098WV8F2', 'B002AQP5MK', 'B005GTWCTM', 'B001LG940E', 'B0033HPPIO']\n",
            "B000CQE3NM $14.56 Stash Tea Moroccan Mint Green Tea 20 Count Box of Tea Bags (Pack of 6), Tea Bags Individually Wrapped in Foil (packaging may vary), Medium Caffeine Tea, Green Tea Blended with Mint, Drink Hot or Iced ['https://images-na.ssl-images-amazon.com/images/I/41aXMa7x8jL._SS40_.jpg', 'https://images-na.ssl-images-amazon.com/images/I/417Uc23%2BnWL._SS40_.jpg', 'https://images-na.ssl-images-amazon.com/images/I/31j%2BdmD3DcL._SS40_.jpg', 'https://images-na.ssl-images-amazon.com/images/I/31jHHnQFkQL._SS40_.jpg']\n",
            "B001L4JH5I $37.71 Pamela's Products Gluten-free Bread Mix, 4-Pound Bags (Pack of 3) ['https://images-na.ssl-images-amazon.com/images/I/61K3Zhw3nzL._SS40_.jpg', 'https://images-na.ssl-images-amazon.com/images/I/41DsYSakKtL._SS40_.jpg']\n",
            "B003EM7J9Q $4.95 Lowrey's Bacon Curls Microwave Pork Rinds (Chicharrones), Hot & Spicy, 1.75 Ounce ['https://images-na.ssl-images-amazon.com/images/I/51T5LB2Rl6L._SS40_.jpg', 'https://images-na.ssl-images-amazon.com/images/I/41bDx%2BkiRqL._SS40_.jpg', 'https://images-na.ssl-images-amazon.com/images/I/51Ir%2BGiBUfL._SS40_.jpg', 'https://images-na.ssl-images-amazon.com/images/I/41uwIiAnliL._SS40_.jpg']\n",
            "B000CQID2Y $14.99 Stash Tea Chamomile Herbal Tea 20 Count (Pack of 6), Premium Herbal Tisane, Sweet Soothing Herbal Tea, Enjoy Chamomile Tea Hot or Iced, Ideal to Drink at Bedtime ['https://images-na.ssl-images-amazon.com/images/I/41C5WNWS7kL._SS40_.jpg', 'https://images-na.ssl-images-amazon.com/images/I/41yrogSDLzL._SS40_.jpg', 'https://images-na.ssl-images-amazon.com/images/I/31IteBxKAgL._SS40_.jpg', 'https://images-na.ssl-images-amazon.com/images/I/31jdUzoLNQL._SS40_.jpg']\n",
            "B005K4Q1T0 $12.42 Grove Square Hot Cocoa Dark Chocolate, 24 Single Serve Cups ['https://images-na.ssl-images-amazon.com/images/I/51tcNdZHThL._SS40_.jpg', 'https://images-na.ssl-images-amazon.com/images/I/5132mMMOgeL._SS40_.jpg', 'https://images-na.ssl-images-amazon.com/images/I/51%2BK5E8IqOL._SS40_.jpg', 'https://images-na.ssl-images-amazon.com/images/I/41bhQ4Ig%2BfL._SS40_.jpg', 'https://images-na.ssl-images-amazon.com/images/I/31L8xA3Gm7L._SS40_.jpg', 'https://images-na.ssl-images-amazon.com/images/I/51Tov34OH4L._SS40_.jpg']\n",
            "B000DZFMEQ $28.68 Pamela's Products Gluten Free, Bread Mix, 19-Ounce Packages (Pack of 6) ['https://images-na.ssl-images-amazon.com/images/I/51aDAYUdjTL._SS40_.jpg', 'https://images-na.ssl-images-amazon.com/images/I/31WbXuhgC6L._SS40_.jpg']\n",
            "B001GL6GBE $16.99 Power Crunch, 12 bars ['https://images-na.ssl-images-amazon.com/images/I/419W2lwWvNL._SS40_.jpg', 'https://images-na.ssl-images-amazon.com/images/I/31gvpmTTKML._SS40_.jpg']\n",
            "B003CK7O36 $14.99 Stash Tea Ginger Breakfast Black Tea 18 Count Tea Bags in Foil (Pack of 6) (Packaging May Vary) Individual Black Tea Bags for Use in Teapots Mugs or Cups, Brew Hot Tea or Iced Tea ['https://images-na.ssl-images-amazon.com/images/I/51qhDmXe4DL._SS40_.jpg', 'https://images-na.ssl-images-amazon.com/images/I/51Wzgx3htyL._SS40_.jpg', 'https://images-na.ssl-images-amazon.com/images/I/51QIadEMYxL._SS40_.jpg', 'https://images-na.ssl-images-amazon.com/images/I/4176Fv0iJhL._SS40_.jpg', 'https://images-na.ssl-images-amazon.com/images/I/31lzl0lWKfL._SS40_.jpg', 'https://images-na.ssl-images-amazon.com/images/I/31tHAvswswL._SS40_.jpg']\n",
            "B003QNJYXM $27.89 5 Hour Energy Extra Strength Energy Shots, Berry, 12 pk ['https://images-na.ssl-images-amazon.com/images/I/51OvNJYqgzL._SS40_.jpg', 'https://images-na.ssl-images-amazon.com/images/I/51HOCbEx7PL._SS40_.jpg', 'https://images-na.ssl-images-amazon.com/images/I/41kEGLBnLAL._SS40_.jpg', 'https://images-na.ssl-images-amazon.com/images/I/31SOH1pkD6L._SS40_.jpg', 'https://images-na.ssl-images-amazon.com/images/I/61n0A2hRH7L._SS40_.jpg', 'https://images-na.ssl-images-amazon.com/images/I/51teAOJjPdL._SS40_.jpg']\n",
            "B000ZSZ5S4 $40.68 Blue Diamond Almonds, Bold Salt & Vinegar, 6 Ounce (Pack of 12) ['https://images-na.ssl-images-amazon.com/images/I/51jZUJ7if7L._SS40_.jpg', 'https://images-na.ssl-images-amazon.com/images/I/51fajgDb4fL._SS40_.jpg', 'https://images-na.ssl-images-amazon.com/images/I/51fNJxWSaiL._SS40_.jpg', 'https://images-na.ssl-images-amazon.com/images/I/51r%2BhyNXEaL._SS40_.jpg', 'https://images-na.ssl-images-amazon.com/images/I/51SybilrQEL._SS40_.jpg', 'https://images-na.ssl-images-amazon.com/images/I/51NrgILPPtL._SS40_.jpg']\n",
            "B001EO5Y8Y $25.49 Green Mountain Coffee, Dark Magic (Extra Bold), K-Cup Portion Pack for Keurig K-Cup Brewers 24-Count  (Pack of 2) ['https://images-na.ssl-images-amazon.com/images/I/51JW2Jk29AL._SS40_.jpg', 'https://images-na.ssl-images-amazon.com/images/I/41qtOaldFTL._SS40_.jpg', 'https://images-na.ssl-images-amazon.com/images/I/41myhV-ykXL._SS40_.jpg', 'https://images-na.ssl-images-amazon.com/images/I/41YfoMd3KaL._SS40_.jpg', 'https://images-na.ssl-images-amazon.com/images/I/418EsjI8wRL._SS40_.jpg', 'https://images-na.ssl-images-amazon.com/images/I/41IcfchxLpL._SS40_.jpg']\n",
            "B000CQC08C $19.20 Stash Tea Premium Green Tea, 20 Count Tea Bags (Pack of 6) Medium Caffiene Tea, Japanese Style Green Tea, Hot or Iced ['https://images-na.ssl-images-amazon.com/images/I/417w-rO3wnL._SS40_.jpg', 'https://images-na.ssl-images-amazon.com/images/I/41LflJzqgCL._SS40_.jpg', 'https://images-na.ssl-images-amazon.com/images/I/31j151URHUL._SS40_.jpg', 'https://images-na.ssl-images-amazon.com/images/I/31pYwAOlPtL._SS40_.jpg']\n",
            "B0039ZOZ86 $32.91 Gourmet Basics Smart Fries Original KC BBQ, 3-Ounce Bags (Pack of 12) ['https://images-na.ssl-images-amazon.com/images/I/510HbUekL7L._SS40_.jpg', 'https://images-na.ssl-images-amazon.com/images/I/51XB8zPdFlL._SS40_.jpg']\n",
            "B005K4Q37A $30.95 Grove Square Cappuccino, Caramel, 12 Single Serve Cups (Pack of 3) ['https://images-na.ssl-images-amazon.com/images/I/61BFiFKFuAL._SS40_.jpg', 'https://images-na.ssl-images-amazon.com/images/I/51zes%2BQW4YL._SS40_.jpg', 'https://images-na.ssl-images-amazon.com/images/I/51Ikxt0EXbL._SS40_.jpg', 'https://images-na.ssl-images-amazon.com/images/I/41Vqgvy3O3L._SS40_.jpg', 'https://images-na.ssl-images-amazon.com/images/I/31aL3qzmE2L._SS40_.jpg', 'https://images-na.ssl-images-amazon.com/images/I/51Jn9MRBDgL._SS40_.jpg']\n",
            "B000REI2X6 $9.52 Belly Flops® 1 Lb. Bag ['https://images-na.ssl-images-amazon.com/images/I/51NS7rl3xlL._SS40_.jpg', 'https://images-na.ssl-images-amazon.com/images/I/41j3ifBji0L._SS40_.jpg', 'https://images-na.ssl-images-amazon.com/images/I/51IbaqLHU9L._SS40_.jpg', 'https://images-na.ssl-images-amazon.com/images/I/61dPAB6oekL._SS40_.jpg']\n",
            "B000PDY3P0 $22.84 4100 Great Northern Popcorn 4 Ounce Premium Popcorn Portion Packs, Case of 24 ['https://images-na.ssl-images-amazon.com/images/I/61D5NRQxsBL._SS40_.jpg', 'https://images-na.ssl-images-amazon.com/images/I/4149Zm0Dm3L._SS40_.jpg', 'https://images-na.ssl-images-amazon.com/images/I/51LQztUAwOL._SS40_.jpg', 'https://images-na.ssl-images-amazon.com/images/I/417T7ewg5TL._SS40_.jpg']\n",
            "B005ZBZLSU $24.26 San Francisco Bay OneCup, French Roast, 12 Count- Single Serve Coffee, Compatible with Keurig K-cup Brewers ['https://images-na.ssl-images-amazon.com/images/I/519BKB-1UUL._SS40_.jpg', 'https://images-na.ssl-images-amazon.com/images/I/61VZ4tPxCGL._SS40_.jpg', 'https://images-na.ssl-images-amazon.com/images/I/51CqT1GfNIL._SS40_.jpg', 'https://images-na.ssl-images-amazon.com/images/I/61CJjeDh1pL._SS40_.jpg', 'https://images-na.ssl-images-amazon.com/images/I/51QUa6MSpOL._SS40_.jpg', 'https://images-na.ssl-images-amazon.com/images/I/31Jbsa9GmkL._SS40_.jpg']\n",
            "B002GJ9JY6 $44.59 Powdered Peanut Butter - 12 Pack/6.5 oz ['https://images-na.ssl-images-amazon.com/images/I/312ADgHeYQL._SS40_.jpg', 'https://images-na.ssl-images-amazon.com/images/I/51%2BURKRPZyL._SS40_.jpg']\n",
            "B006N3HYYS $46.95 Coffee People Black Tiger Dark Roast, 24-Count K-Cup Portion Pack for Keurig Brewers ['https://images-na.ssl-images-amazon.com/images/I/51thAV2OyYL._SS40_.jpg', 'https://images-na.ssl-images-amazon.com/images/I/419mG3E6xYL._SS40_.jpg', 'https://images-na.ssl-images-amazon.com/images/I/51iS4c3qsrL._SS40_.jpg', 'https://images-na.ssl-images-amazon.com/images/I/413t1dwb6ZL._SS40_.jpg', 'https://images-na.ssl-images-amazon.com/images/I/21EfxSdgdDL._SS40_.jpg']\n",
            "B000CQIDHY $13.38 Stash Tea English Breakfast Black Tea, 20 Count Tea Bags in Foil (Pack of 6) Individual Black Tea Bags for Use in Teapots Mugs or Cups, Brew Hot Tea or Iced Tea ['https://images-na.ssl-images-amazon.com/images/I/41f0P1AWRlL._SS40_.jpg', 'https://images-na.ssl-images-amazon.com/images/I/41A9sfE1FtL._SS40_.jpg', 'https://images-na.ssl-images-amazon.com/images/I/315R8O%2BBQPL._SS40_.jpg', 'https://images-na.ssl-images-amazon.com/images/I/21gr4pkwD2L._SS40_.jpg']\n",
            "B001E5E3JY $25.30 SweetLeaf Sweet Drops Liquid Stevia Sweetener, SteviaClear, 4 Ounce (Pack of 2) ['https://images-na.ssl-images-amazon.com/images/I/41UkJ8Mtd8L._SS40_.jpg', 'https://images-na.ssl-images-amazon.com/images/I/41PclVW1NDL._SS40_.jpg', 'https://images-na.ssl-images-amazon.com/images/I/41pA%2BdNunPL._SS40_.jpg', 'https://images-na.ssl-images-amazon.com/images/I/41YbJRRZFWL._SS40_.jpg', 'https://images-na.ssl-images-amazon.com/images/I/41rXvOVbwzL._SS40_.jpg', 'https://images-na.ssl-images-amazon.com/images/I/41aH745fWRL._SS40_.jpg']\n",
            "B000F6SNPS $16.59 Good Earth Herbal Tea, Sweet & Spicy, Caffeine Free, 18 Count Tea Bags (Pack of 6) (Packaging May Vary) ['https://images-na.ssl-images-amazon.com/images/I/419ByXkF9CL._SS40_.jpg', 'https://images-na.ssl-images-amazon.com/images/I/51hzcAoSGgL._SS40_.jpg', 'https://images-na.ssl-images-amazon.com/images/I/41oJzeyIv1L._SS40_.jpg', 'https://images-na.ssl-images-amazon.com/images/I/51rHpUzgQsL._SS40_.jpg', 'https://images-na.ssl-images-amazon.com/images/I/41QMNOubHSL._SS40_.jpg', 'https://images-na.ssl-images-amazon.com/images/I/31i-mLIksML._SS40_.jpg']\n",
            "B005ZBZLT4 $31.98 San Francisco Bay OneCup, Fog Chaser, 12 Single Serve Coffees (Pack of 3) ['https://images-na.ssl-images-amazon.com/images/I/51hKkar-qJL._SS40_.jpg', 'https://images-na.ssl-images-amazon.com/images/I/31r6xsSQ4cL._SS40_.jpg']\n",
            "B000CQIDHO $23.49 Stash Tea Strawberry Pomegranate Red Tea 18 Count Tea Bags in Foil (Pack of 6) Individual Red Tea Bags, Use in Teapots Mugs or Cups, Brew Hot Tea or Iced Tea ['https://images-na.ssl-images-amazon.com/images/I/51tHidF455L._SS40_.jpg', 'https://images-na.ssl-images-amazon.com/images/I/51IHs8jTC4L._SS40_.jpg', 'https://images-na.ssl-images-amazon.com/images/I/31ESF%2BlJxCL._SS40_.jpg', 'https://images-na.ssl-images-amazon.com/images/I/413LlJ7qB7L._SS40_.jpg']\n",
            "B0008IT4OM $12.95 Chocmod Truffettes de France Natural Truffles 2.2 lbs ['https://images-na.ssl-images-amazon.com/images/I/41rMMal-MDL._SS40_.jpg', 'https://images-na.ssl-images-amazon.com/images/I/517JsHfxVaL._SS40_.jpg', 'https://images-na.ssl-images-amazon.com/images/I/51vCq-wYDmL._SS40_.jpg']\n",
            "B003CK2BQG $11.77 Stash Tea Mojito Mint Green Tea & Matcha Blend 18 Count Tea Bags in Foil (Pack of 6) (Packaging May Vary) Individual Green Tea Bags for Use in Teapots Mugs or Cups, Brew Hot Tea or Iced Tea ['https://images-na.ssl-images-amazon.com/images/I/41nh2BPMjyL._SS40_.jpg', 'https://images-na.ssl-images-amazon.com/images/I/41OCbmvL3EL._SS40_.jpg', 'https://images-na.ssl-images-amazon.com/images/I/31DqJNZl94L._SS40_.jpg', 'https://images-na.ssl-images-amazon.com/images/I/31GYohGovcL._SS40_.jpg']\n",
            "B000ESLJ6C $41.75 Pero Instant Natural Beverage, 7-Ounce Canisters (Pack of 6) ['https://images-na.ssl-images-amazon.com/images/I/51WcIPbAM-L._SS40_.jpg', 'https://images-na.ssl-images-amazon.com/images/I/51vcvgNfdcL._SS40_.jpg', 'https://images-na.ssl-images-amazon.com/images/I/31gcM0Nl2pL._SS40_.jpg']\n",
            "B000HDK0DC $27.49 YumEarth Organic Lollipops, Assorted Flavors, 5 Pound Bag ['https://images-na.ssl-images-amazon.com/images/I/5131aViQ64L._SS40_.jpg', 'https://images-na.ssl-images-amazon.com/images/I/516EtiPBpOL._SS40_.jpg', 'https://images-na.ssl-images-amazon.com/images/I/41rPCGvrD4L._SS40_.jpg', 'https://images-na.ssl-images-amazon.com/images/I/419kEICie9L._SS40_.jpg']\n",
            "B001EYUE5M $35.73 Green Mountain Coffee Breakfast Blend for Keurig Brewers, 24-Count K-Cups (Pack of 2) ['https://images-na.ssl-images-amazon.com/images/I/51Gfvs-BblL._SS40_.jpg']\n",
            "B005DFL4PM $19.99 Bell Plantation PB2 with Premium Chocolate, 16-Ounce ['https://images-na.ssl-images-amazon.com/images/I/51zDNGDYjkL._SS40_.jpg', 'https://images-na.ssl-images-amazon.com/images/I/31BJU58oYvL._SS40_.jpg', 'https://images-na.ssl-images-amazon.com/images/I/51eY3CRZtCL._SS40_.jpg']\n",
            "B001CWX7EG $44.99 Glutino Gluten Free Pretzel Sticks, 8-Ounce Bags (Pack of 12) ['https://images-na.ssl-images-amazon.com/images/I/51A7lZIH1mL._SS40_.jpg', 'https://images-na.ssl-images-amazon.com/images/I/31i0x36YbmL._SS40_.jpg', 'https://images-na.ssl-images-amazon.com/images/I/51x6yiKmoyL._SS40_.jpg', 'https://images-na.ssl-images-amazon.com/images/I/51phTb-MS7L._SS40_.jpg']\n",
            "B000DZDJ0K $34.14 Pamela's Products Gluten Free Baking & Pancake Mix, 24-Ounce Packages (Pack of 6) ['https://images-na.ssl-images-amazon.com/images/I/51YjtlMru0L._SS40_.jpg', 'https://images-na.ssl-images-amazon.com/images/I/315A9zN7M2L._SS40_.jpg']\n",
            "B000CQBZOW $14.99 Stash Tea Wild Raspberry Hibiscus Herbal Tea 20 Count Tea Bags in Foil (Pack of 6) Individual Herbal Tea Bags for Use in Teapots Mugs or Cups, Brew Hot Tea or Iced Tea ['https://images-na.ssl-images-amazon.com/images/I/51UImhQsGKL._SS40_.jpg', 'https://images-na.ssl-images-amazon.com/images/I/51ZyZf44TGL._SS40_.jpg', 'https://images-na.ssl-images-amazon.com/images/I/313MSfszaYL._SS40_.jpg', 'https://images-na.ssl-images-amazon.com/images/I/51LPrmdW2OL._SS40_.jpg', 'https://images-na.ssl-images-amazon.com/images/I/410ETMyJIwL._SS40_.jpg']\n",
            "B004SRH2B6 $35.10 ZICO Pure Premium Coconut Water, Natural, 33.8 fl oz Container (Count of 6) ['https://images-na.ssl-images-amazon.com/images/I/41m7oNG5C5L._SS40_.jpg', 'https://images-na.ssl-images-amazon.com/images/I/41IbxtF7M8L._SS40_.jpg', 'https://images-na.ssl-images-amazon.com/images/I/41HKAvaE2hL._SS40_.jpg', 'https://images-na.ssl-images-amazon.com/images/I/315qkkPXySL._SS40_.jpg', 'https://images-na.ssl-images-amazon.com/images/I/3181EbTuRyL._SS40_.jpg', 'https://images-na.ssl-images-amazon.com/images/I/315s9sf-0wL._SS40_.jpg']\n",
            "B005GX00BK $40.17 Lavazza Crema e Gusto Espresso 8.8oz(Pack of 6) ['https://images-na.ssl-images-amazon.com/images/I/51Ur6l%2BT6aL._SS40_.jpg', 'https://images-na.ssl-images-amazon.com/images/I/31hs8DL54jL._SS40_.jpg']\n",
            "B007TJGZ5E $41.99 Green Mountain Coffee Roasters Nantucket Blend, Keurig Single-Serve K-Cup Pods, Medium Roast Coffee, 96 Count (Packaging May Vary) ['https://images-na.ssl-images-amazon.com/images/I/51rBT-HsiaL._SS40_.jpg', 'https://images-na.ssl-images-amazon.com/images/I/41XOBcNdY8L._SS40_.jpg', 'https://images-na.ssl-images-amazon.com/images/I/51yW8mu%2Bw-L._SS40_.jpg', 'https://images-na.ssl-images-amazon.com/images/I/51zwzKecrhL._SS40_.jpg', 'https://images-na.ssl-images-amazon.com/images/I/4166lb5M1tL._SS40_.jpg', 'https://images-na.ssl-images-amazon.com/images/I/61Ecj-N-hBL._SS40_.jpg']\n",
            "B008ZRKZSM $28.17 Pb2 Powdered Peanut Butter - 6.5 Oz ['https://images-na.ssl-images-amazon.com/images/I/41LHDNAaKGL._SS40_.jpg', 'https://images-na.ssl-images-amazon.com/images/I/41pjul8gnGL._SS40_.jpg', 'https://images-na.ssl-images-amazon.com/images/I/415U3XNngpL._SS40_.jpg', 'https://images-na.ssl-images-amazon.com/images/I/312X3z9Ns8L._SS40_.jpg']\n",
            "B000CQG8KS $14.99 Stash Tea Peach Black Tea 20 Count Tea Bags in Foil (Pack of 6) Individual Black Tea Bags for Use in Teapots Mugs or Cups, Brew Hot Tea or Iced Tea ['https://images-na.ssl-images-amazon.com/images/I/71N4hJ1VWhL._SS40_.jpg', 'https://images-na.ssl-images-amazon.com/images/I/81cWJWeCCSL._SS40_.jpg', 'https://images-na.ssl-images-amazon.com/images/I/31hAgeLvrRL._SS40_.jpg', 'https://images-na.ssl-images-amazon.com/images/I/51D0NIn4hCL._SS40_.jpg']\n",
            "B000CQC05K $15.71 Stash Tea Yumberry Blackcurrant Tea 20 Tea Bags in Foil (Pack of 6) Individual Black Tea Bags for Use in Teapots Mugs or Cups, Brew Hot Tea or Iced Tea ['https://images-na.ssl-images-amazon.com/images/I/512wrdEd2iL._SS40_.jpg', 'https://images-na.ssl-images-amazon.com/images/I/51ZvQQkR7pL._SS40_.jpg', 'https://images-na.ssl-images-amazon.com/images/I/31wDnye7ZzL._SS40_.jpg', 'https://images-na.ssl-images-amazon.com/images/I/41jNyx224AL._SS40_.jpg']\n",
            "B0058AMYTC $29.98 Kettle Brand Potato Chips, Jalapeno, Single-Serve 1 Ounce Bags (Pack of 72) ['https://images-na.ssl-images-amazon.com/images/I/41EB6djqBmL._SS40_.jpg', 'https://images-na.ssl-images-amazon.com/images/I/51m4INwISsL._SS40_.jpg', 'https://images-na.ssl-images-amazon.com/images/I/610uBLFR0QL._SS40_.jpg', 'https://images-na.ssl-images-amazon.com/images/I/51DbTsscHgL._SS40_.jpg', 'https://images-na.ssl-images-amazon.com/images/I/51OIrI24wQL._SS40_.jpg', 'https://images-na.ssl-images-amazon.com/images/I/41UyfYYdeXL._SS40_.jpg']\n",
            "B005HG9ESG $19.99 Essentia Water; 12, 1-Liter Bottles; Ionized Alkaline Bottled Water; Electrolytes for Taste; Better Rehydration; pH 9.5 or Higher; Pure Drinking Water; For the Doers, the Believers, the Overachievers ['https://images-na.ssl-images-amazon.com/images/I/41WWI5ELWEL._SS40_.jpg', 'https://images-na.ssl-images-amazon.com/images/I/41U-pmRileL._SS40_.jpg', 'https://images-na.ssl-images-amazon.com/images/I/31pP9nRMhEL._SS40_.jpg', 'https://images-na.ssl-images-amazon.com/images/I/31ctqpbgAYL._SS40_.jpg', 'https://images-na.ssl-images-amazon.com/images/I/51JDiK6aGcL._SS40_.jpg']\n",
            "B000GAT6NG $17.99 Nutiva Organic, Cold-Pressed, Unrefined, Virgin Coconut Oil from Fresh, non-GMO, Sustainably Farmed Coconuts, 54-ounce ['https://images-na.ssl-images-amazon.com/images/I/71dwzyJ588L._SS40_.jpg', 'https://images-na.ssl-images-amazon.com/images/I/71Eq1t2qZzL._SS40_.jpg', 'https://images-na.ssl-images-amazon.com/images/I/616z91XUKZL._SS40_.jpg', 'https://images-na.ssl-images-amazon.com/images/I/41mnHjnx2OL._SS40_.jpg', 'https://images-na.ssl-images-amazon.com/images/I/31zWugSTUqL._SS40_.jpg', 'https://images-na.ssl-images-amazon.com/images/I/41HBIV6t35L._SS40_PKmb-play-button-overlay-thumb_.jpg']\n",
            "B000CQIDHE $13.38 Stash Tea Licorice Spice Herbal Tea 20 Count Tea Bags in Foil (Pack of 6), Tea Bags Individually Wrapped in Foil (packaging may vary), Naturally Sweet Herbal Tisane, Zero Caffeine, Drink Hot or Iced ['https://images-na.ssl-images-amazon.com/images/I/41u%2BDw8d2VL._SS40_.jpg', 'https://images-na.ssl-images-amazon.com/images/I/51hcdIM1PfL._SS40_.jpg', 'https://images-na.ssl-images-amazon.com/images/I/312l8I6eENL._SS40_.jpg', 'https://images-na.ssl-images-amazon.com/images/I/51TG8SocdPL._SS40_.jpg']\n",
            "B000WB1YSE $19.60 Kirkland Ito En Matcha Blend Japanese Green Tea-100 ct 1.5g tea bags ['https://images-na.ssl-images-amazon.com/images/I/41JGayhHeML._SS40_.jpg', 'https://images-na.ssl-images-amazon.com/images/I/31qIHxIg5uL._SS40_.jpg', 'https://images-na.ssl-images-amazon.com/images/I/51dOae300vL._SS40_.jpg', 'https://images-na.ssl-images-amazon.com/images/I/31jKJUS1gOL._SS40_.jpg']\n",
            "B0012BUR8Q $19.20 Stash Tea Acai Berry Herbal Tea 18 Count Tea Bags in Foil (Pack of 6) Individual Herbal Tea Bags for Use in Teapots Mugs or Cups, Brew Hot Tea or Iced Tea ['https://images-na.ssl-images-amazon.com/images/I/41K14PCle8L._SS40_.jpg', 'https://images-na.ssl-images-amazon.com/images/I/51SqK-y194L._SS40_.jpg', 'https://images-na.ssl-images-amazon.com/images/I/31coWt%2BezUL._SS40_.jpg', 'https://images-na.ssl-images-amazon.com/images/I/41B4qz7qPbL._SS40_.jpg']\n",
            "B0098WV8F2 $11.14 Bell Plantation PB2 Powdered Peanut Butter and PB2 with Premium Chocolate, 6.5 Ounce (Pack of 2) ['https://images-na.ssl-images-amazon.com/images/I/61Wh26WuSqL._SS40_.jpg', 'https://images-na.ssl-images-amazon.com/images/I/412eWpBw0YL._SS40_.jpg', 'https://images-na.ssl-images-amazon.com/images/I/51vI3bjuvdL._SS40_.jpg', 'https://images-na.ssl-images-amazon.com/images/I/31scapwxR2L._SS40_.jpg']\n",
            "B002AQP5MK $31.68 Betty Crocker Baking Mix, Gluten Free Brownie Mix, Chocolate, 16 Oz Box (Pack of 6) ['https://images-na.ssl-images-amazon.com/images/I/61b69AtaNQL._SS40_.jpg', 'https://images-na.ssl-images-amazon.com/images/I/51d0WHtpJ8L._SS40_.jpg', 'https://images-na.ssl-images-amazon.com/images/I/41wWd45tkVL._SS40_.jpg', 'https://images-na.ssl-images-amazon.com/images/I/41Q9nVoZ8mL._SS40_.jpg']\n",
            "B005GTWCTM $12.92 Lavazza 2 Pack Crema E Gusto Ground Coffee 8.8oz/250g Each ['https://images-na.ssl-images-amazon.com/images/I/513oz00umlL._SS40_.jpg']\n",
            "B001LG940E $31.53 The Switch Sparkling Juice, Black Cherry, 8- Fl. Oz Cans (Pack of 24) ['https://images-na.ssl-images-amazon.com/images/I/51paenF1vhL._SS40_.jpg', 'https://images-na.ssl-images-amazon.com/images/I/51WbyOVb7GL._SS40_.jpg', 'https://images-na.ssl-images-amazon.com/images/I/51jxv59rtpL._SS40_.jpg', 'https://images-na.ssl-images-amazon.com/images/I/51feV1oOV1L._SS40_.jpg', 'https://images-na.ssl-images-amazon.com/images/I/51Ri9LjNcnL._SS40_.jpg', 'https://images-na.ssl-images-amazon.com/images/I/51aKv%2Bvv4mL._SS40_.jpg']\n",
            "B0033HPPIO $14.07 Donut House Collection Coffee Chocolate Glazed Donut Keurig Single-Serve K-Cup Pods, Light Roast Coffee, 24 Count ['https://images-na.ssl-images-amazon.com/images/I/517N16Ihg7L._SS40_.jpg', 'https://images-na.ssl-images-amazon.com/images/I/51L-rRxkalL._SS40_.jpg', 'https://images-na.ssl-images-amazon.com/images/I/41EvWROMQGL._SS40_.jpg', 'https://images-na.ssl-images-amazon.com/images/I/512z4u14B-L._SS40_.jpg', 'https://images-na.ssl-images-amazon.com/images/I/513K%2BTmCrKL._SS40_.jpg', 'https://images-na.ssl-images-amazon.com/images/I/41u3aHV3%2BpL._SS40_.jpg']\n"
          ],
          "name": "stdout"
        }
      ]
    },
    {
      "cell_type": "markdown",
      "metadata": {
        "id": "4AB82I78JXYc",
        "colab_type": "text"
      },
      "source": [
        "NEW //"
      ]
    },
    {
      "cell_type": "code",
      "metadata": {
        "id": "mt5yAyigJKHE",
        "colab_type": "code",
        "colab": {
          "base_uri": "https://localhost:8080/",
          "height": 1000
        },
        "outputId": "8f145fc8-f0be-4031-8e4c-04b41a3afe55"
      },
      "source": [
        "test_pids = ['B000CQE3NM', 'B001L4JH5I', 'B003EM7J9Q', 'B000CQID2Y', 'B005K4Q1T0', 'B000DZFMEQ', 'B001GL6GBE', 'B003CK7O36', 'B003QNJYXM', 'B000ZSZ5S4', 'B001EO5Y8Y', 'B000CQC08C', 'B0039ZOZ86', 'B005K4Q37A', 'B000REI2X6', 'B000PDY3P0', 'B005ZBZLSU', 'B002GJ9JY6', 'B006N3HYYS', 'B000CQIDHY', 'B001E5E3JY', 'B000F6SNPS', 'B005ZBZLT4', 'B000CQIDHO', 'B0008IT4OM', 'B003CK2BQG', 'B000ESLJ6C', 'B000HDK0DC', 'B001EYUE5M', 'B005DFL4PM', 'B001CWX7EG', 'B000DZDJ0K', 'B000CQBZOW', 'B004SRH2B6', 'B005GX00BK', 'B007TJGZ5E', 'B008ZRKZSM', 'B000CQG8KS', 'B000CQC05K', 'B0058AMYTC', 'B005HG9ESG', 'B000GAT6NG', 'B000CQIDHE', 'B000WB1YSE', 'B0012BUR8Q', 'B0098WV8F2', 'B002AQP5MK', 'B005GTWCTM', 'B001LG940E', 'B0033HPPIO']\n",
        "meta_df = pd.read_json('data.json')\n",
        "review_df = pd.read_csv(r\"/content/gdrive/My Drive/PROJECT | S7-S8/Data/training_seq2seq.csv\")\n",
        "\n",
        "not_found = []\n",
        "for pid in test_pids:\n",
        "  if len(review_df.loc[review_df['ProductId'] == pid]) > 5:\n",
        "    print(pid, len(review_df.loc[review_df['ProductId'] == pid]))\n",
        "    temp_df = meta_df.loc[meta_df['asin'] == pid]\n",
        "    print(pid, temp_df['price'].values[0], temp_df['title'].values[0], temp_df['image'].values[0])\n",
        "\n",
        "  else:\n",
        "    not_found.append(pid)\n",
        "\n",
        "print(not_found)"
      ],
      "execution_count": 63,
      "outputs": [
        {
          "output_type": "stream",
          "text": [
            "B000CQE3NM 206\n",
            "B000CQE3NM $14.56 Stash Tea Moroccan Mint Green Tea 20 Count Box of Tea Bags (Pack of 6), Tea Bags Individually Wrapped in Foil (packaging may vary), Medium Caffeine Tea, Green Tea Blended with Mint, Drink Hot or Iced ['https://images-na.ssl-images-amazon.com/images/I/41aXMa7x8jL._SS40_.jpg', 'https://images-na.ssl-images-amazon.com/images/I/417Uc23%2BnWL._SS40_.jpg', 'https://images-na.ssl-images-amazon.com/images/I/31j%2BdmD3DcL._SS40_.jpg', 'https://images-na.ssl-images-amazon.com/images/I/31jHHnQFkQL._SS40_.jpg']\n",
            "B001L4JH5I 182\n",
            "B001L4JH5I $37.71 Pamela's Products Gluten-free Bread Mix, 4-Pound Bags (Pack of 3) ['https://images-na.ssl-images-amazon.com/images/I/61K3Zhw3nzL._SS40_.jpg', 'https://images-na.ssl-images-amazon.com/images/I/41DsYSakKtL._SS40_.jpg']\n",
            "B003EM7J9Q 292\n",
            "B003EM7J9Q $4.95 Lowrey's Bacon Curls Microwave Pork Rinds (Chicharrones), Hot & Spicy, 1.75 Ounce ['https://images-na.ssl-images-amazon.com/images/I/51T5LB2Rl6L._SS40_.jpg', 'https://images-na.ssl-images-amazon.com/images/I/41bDx%2BkiRqL._SS40_.jpg', 'https://images-na.ssl-images-amazon.com/images/I/51Ir%2BGiBUfL._SS40_.jpg', 'https://images-na.ssl-images-amazon.com/images/I/41uwIiAnliL._SS40_.jpg']\n",
            "B000CQID2Y 170\n",
            "B000CQID2Y $14.99 Stash Tea Chamomile Herbal Tea 20 Count (Pack of 6), Premium Herbal Tisane, Sweet Soothing Herbal Tea, Enjoy Chamomile Tea Hot or Iced, Ideal to Drink at Bedtime ['https://images-na.ssl-images-amazon.com/images/I/41C5WNWS7kL._SS40_.jpg', 'https://images-na.ssl-images-amazon.com/images/I/41yrogSDLzL._SS40_.jpg', 'https://images-na.ssl-images-amazon.com/images/I/31IteBxKAgL._SS40_.jpg', 'https://images-na.ssl-images-amazon.com/images/I/31jdUzoLNQL._SS40_.jpg']\n",
            "B005K4Q1T0 324\n",
            "B005K4Q1T0 $12.42 Grove Square Hot Cocoa Dark Chocolate, 24 Single Serve Cups ['https://images-na.ssl-images-amazon.com/images/I/51tcNdZHThL._SS40_.jpg', 'https://images-na.ssl-images-amazon.com/images/I/5132mMMOgeL._SS40_.jpg', 'https://images-na.ssl-images-amazon.com/images/I/51%2BK5E8IqOL._SS40_.jpg', 'https://images-na.ssl-images-amazon.com/images/I/41bhQ4Ig%2BfL._SS40_.jpg', 'https://images-na.ssl-images-amazon.com/images/I/31L8xA3Gm7L._SS40_.jpg', 'https://images-na.ssl-images-amazon.com/images/I/51Tov34OH4L._SS40_.jpg']\n",
            "B000DZFMEQ 295\n",
            "B000DZFMEQ $28.68 Pamela's Products Gluten Free, Bread Mix, 19-Ounce Packages (Pack of 6) ['https://images-na.ssl-images-amazon.com/images/I/51aDAYUdjTL._SS40_.jpg', 'https://images-na.ssl-images-amazon.com/images/I/31WbXuhgC6L._SS40_.jpg']\n",
            "B001GL6GBE 144\n",
            "B001GL6GBE $16.99 Power Crunch, 12 bars ['https://images-na.ssl-images-amazon.com/images/I/419W2lwWvNL._SS40_.jpg', 'https://images-na.ssl-images-amazon.com/images/I/31gvpmTTKML._SS40_.jpg']\n",
            "B003CK7O36 209\n",
            "B003CK7O36 $14.99 Stash Tea Ginger Breakfast Black Tea 18 Count Tea Bags in Foil (Pack of 6) (Packaging May Vary) Individual Black Tea Bags for Use in Teapots Mugs or Cups, Brew Hot Tea or Iced Tea ['https://images-na.ssl-images-amazon.com/images/I/51qhDmXe4DL._SS40_.jpg', 'https://images-na.ssl-images-amazon.com/images/I/51Wzgx3htyL._SS40_.jpg', 'https://images-na.ssl-images-amazon.com/images/I/51QIadEMYxL._SS40_.jpg', 'https://images-na.ssl-images-amazon.com/images/I/4176Fv0iJhL._SS40_.jpg', 'https://images-na.ssl-images-amazon.com/images/I/31lzl0lWKfL._SS40_.jpg', 'https://images-na.ssl-images-amazon.com/images/I/31tHAvswswL._SS40_.jpg']\n",
            "B003QNJYXM 375\n",
            "B003QNJYXM $27.89 5 Hour Energy Extra Strength Energy Shots, Berry, 12 pk ['https://images-na.ssl-images-amazon.com/images/I/51OvNJYqgzL._SS40_.jpg', 'https://images-na.ssl-images-amazon.com/images/I/51HOCbEx7PL._SS40_.jpg', 'https://images-na.ssl-images-amazon.com/images/I/41kEGLBnLAL._SS40_.jpg', 'https://images-na.ssl-images-amazon.com/images/I/31SOH1pkD6L._SS40_.jpg', 'https://images-na.ssl-images-amazon.com/images/I/61n0A2hRH7L._SS40_.jpg', 'https://images-na.ssl-images-amazon.com/images/I/51teAOJjPdL._SS40_.jpg']\n",
            "B000ZSZ5S4 174\n",
            "B000ZSZ5S4 $40.68 Blue Diamond Almonds, Bold Salt & Vinegar, 6 Ounce (Pack of 12) ['https://images-na.ssl-images-amazon.com/images/I/51jZUJ7if7L._SS40_.jpg', 'https://images-na.ssl-images-amazon.com/images/I/51fajgDb4fL._SS40_.jpg', 'https://images-na.ssl-images-amazon.com/images/I/51fNJxWSaiL._SS40_.jpg', 'https://images-na.ssl-images-amazon.com/images/I/51r%2BhyNXEaL._SS40_.jpg', 'https://images-na.ssl-images-amazon.com/images/I/51SybilrQEL._SS40_.jpg', 'https://images-na.ssl-images-amazon.com/images/I/51NrgILPPtL._SS40_.jpg']\n",
            "B001EO5Y8Y 269\n",
            "B001EO5Y8Y $25.49 Green Mountain Coffee, Dark Magic (Extra Bold), K-Cup Portion Pack for Keurig K-Cup Brewers 24-Count  (Pack of 2) ['https://images-na.ssl-images-amazon.com/images/I/51JW2Jk29AL._SS40_.jpg', 'https://images-na.ssl-images-amazon.com/images/I/41qtOaldFTL._SS40_.jpg', 'https://images-na.ssl-images-amazon.com/images/I/41myhV-ykXL._SS40_.jpg', 'https://images-na.ssl-images-amazon.com/images/I/41YfoMd3KaL._SS40_.jpg', 'https://images-na.ssl-images-amazon.com/images/I/418EsjI8wRL._SS40_.jpg', 'https://images-na.ssl-images-amazon.com/images/I/41IcfchxLpL._SS40_.jpg']\n",
            "B000CQC08C 206\n",
            "B000CQC08C $19.20 Stash Tea Premium Green Tea, 20 Count Tea Bags (Pack of 6) Medium Caffiene Tea, Japanese Style Green Tea, Hot or Iced ['https://images-na.ssl-images-amazon.com/images/I/417w-rO3wnL._SS40_.jpg', 'https://images-na.ssl-images-amazon.com/images/I/41LflJzqgCL._SS40_.jpg', 'https://images-na.ssl-images-amazon.com/images/I/31j151URHUL._SS40_.jpg', 'https://images-na.ssl-images-amazon.com/images/I/31pYwAOlPtL._SS40_.jpg']\n",
            "B0039ZOZ86 149\n",
            "B0039ZOZ86 $32.91 Gourmet Basics Smart Fries Original KC BBQ, 3-Ounce Bags (Pack of 12) ['https://images-na.ssl-images-amazon.com/images/I/510HbUekL7L._SS40_.jpg', 'https://images-na.ssl-images-amazon.com/images/I/51XB8zPdFlL._SS40_.jpg']\n",
            "B005K4Q37A 542\n",
            "B005K4Q37A $30.95 Grove Square Cappuccino, Caramel, 12 Single Serve Cups (Pack of 3) ['https://images-na.ssl-images-amazon.com/images/I/61BFiFKFuAL._SS40_.jpg', 'https://images-na.ssl-images-amazon.com/images/I/51zes%2BQW4YL._SS40_.jpg', 'https://images-na.ssl-images-amazon.com/images/I/51Ikxt0EXbL._SS40_.jpg', 'https://images-na.ssl-images-amazon.com/images/I/41Vqgvy3O3L._SS40_.jpg', 'https://images-na.ssl-images-amazon.com/images/I/31aL3qzmE2L._SS40_.jpg', 'https://images-na.ssl-images-amazon.com/images/I/51Jn9MRBDgL._SS40_.jpg']\n",
            "B000REI2X6 190\n",
            "B000REI2X6 $9.52 Belly Flops® 1 Lb. Bag ['https://images-na.ssl-images-amazon.com/images/I/51NS7rl3xlL._SS40_.jpg', 'https://images-na.ssl-images-amazon.com/images/I/41j3ifBji0L._SS40_.jpg', 'https://images-na.ssl-images-amazon.com/images/I/51IbaqLHU9L._SS40_.jpg', 'https://images-na.ssl-images-amazon.com/images/I/61dPAB6oekL._SS40_.jpg']\n",
            "B000PDY3P0 487\n",
            "B000PDY3P0 $22.84 4100 Great Northern Popcorn 4 Ounce Premium Popcorn Portion Packs, Case of 24 ['https://images-na.ssl-images-amazon.com/images/I/61D5NRQxsBL._SS40_.jpg', 'https://images-na.ssl-images-amazon.com/images/I/4149Zm0Dm3L._SS40_.jpg', 'https://images-na.ssl-images-amazon.com/images/I/51LQztUAwOL._SS40_.jpg', 'https://images-na.ssl-images-amazon.com/images/I/417T7ewg5TL._SS40_.jpg']\n",
            "B005ZBZLSU 276\n",
            "B005ZBZLSU $24.26 San Francisco Bay OneCup, French Roast, 12 Count- Single Serve Coffee, Compatible with Keurig K-cup Brewers ['https://images-na.ssl-images-amazon.com/images/I/519BKB-1UUL._SS40_.jpg', 'https://images-na.ssl-images-amazon.com/images/I/61VZ4tPxCGL._SS40_.jpg', 'https://images-na.ssl-images-amazon.com/images/I/51CqT1GfNIL._SS40_.jpg', 'https://images-na.ssl-images-amazon.com/images/I/61CJjeDh1pL._SS40_.jpg', 'https://images-na.ssl-images-amazon.com/images/I/51QUa6MSpOL._SS40_.jpg', 'https://images-na.ssl-images-amazon.com/images/I/31Jbsa9GmkL._SS40_.jpg']\n",
            "B002GJ9JY6 310\n",
            "B002GJ9JY6 $44.59 Powdered Peanut Butter - 12 Pack/6.5 oz ['https://images-na.ssl-images-amazon.com/images/I/312ADgHeYQL._SS40_.jpg', 'https://images-na.ssl-images-amazon.com/images/I/51%2BURKRPZyL._SS40_.jpg']\n",
            "B006N3HYYS 159\n",
            "B006N3HYYS $46.95 Coffee People Black Tiger Dark Roast, 24-Count K-Cup Portion Pack for Keurig Brewers ['https://images-na.ssl-images-amazon.com/images/I/51thAV2OyYL._SS40_.jpg', 'https://images-na.ssl-images-amazon.com/images/I/419mG3E6xYL._SS40_.jpg', 'https://images-na.ssl-images-amazon.com/images/I/51iS4c3qsrL._SS40_.jpg', 'https://images-na.ssl-images-amazon.com/images/I/413t1dwb6ZL._SS40_.jpg', 'https://images-na.ssl-images-amazon.com/images/I/21EfxSdgdDL._SS40_.jpg']\n",
            "B000CQIDHY 209\n",
            "B000CQIDHY $13.38 Stash Tea English Breakfast Black Tea, 20 Count Tea Bags in Foil (Pack of 6) Individual Black Tea Bags for Use in Teapots Mugs or Cups, Brew Hot Tea or Iced Tea ['https://images-na.ssl-images-amazon.com/images/I/41f0P1AWRlL._SS40_.jpg', 'https://images-na.ssl-images-amazon.com/images/I/41A9sfE1FtL._SS40_.jpg', 'https://images-na.ssl-images-amazon.com/images/I/315R8O%2BBQPL._SS40_.jpg', 'https://images-na.ssl-images-amazon.com/images/I/21gr4pkwD2L._SS40_.jpg']\n",
            "B001E5E3JY 132\n",
            "B001E5E3JY $25.30 SweetLeaf Sweet Drops Liquid Stevia Sweetener, SteviaClear, 4 Ounce (Pack of 2) ['https://images-na.ssl-images-amazon.com/images/I/41UkJ8Mtd8L._SS40_.jpg', 'https://images-na.ssl-images-amazon.com/images/I/41PclVW1NDL._SS40_.jpg', 'https://images-na.ssl-images-amazon.com/images/I/41pA%2BdNunPL._SS40_.jpg', 'https://images-na.ssl-images-amazon.com/images/I/41YbJRRZFWL._SS40_.jpg', 'https://images-na.ssl-images-amazon.com/images/I/41rXvOVbwzL._SS40_.jpg', 'https://images-na.ssl-images-amazon.com/images/I/41aH745fWRL._SS40_.jpg']\n",
            "B000F6SNPS 143\n",
            "B000F6SNPS $16.59 Good Earth Herbal Tea, Sweet & Spicy, Caffeine Free, 18 Count Tea Bags (Pack of 6) (Packaging May Vary) ['https://images-na.ssl-images-amazon.com/images/I/419ByXkF9CL._SS40_.jpg', 'https://images-na.ssl-images-amazon.com/images/I/51hzcAoSGgL._SS40_.jpg', 'https://images-na.ssl-images-amazon.com/images/I/41oJzeyIv1L._SS40_.jpg', 'https://images-na.ssl-images-amazon.com/images/I/51rHpUzgQsL._SS40_.jpg', 'https://images-na.ssl-images-amazon.com/images/I/41QMNOubHSL._SS40_.jpg', 'https://images-na.ssl-images-amazon.com/images/I/31i-mLIksML._SS40_.jpg']\n",
            "B005ZBZLT4 506\n",
            "B005ZBZLT4 $31.98 San Francisco Bay OneCup, Fog Chaser, 12 Single Serve Coffees (Pack of 3) ['https://images-na.ssl-images-amazon.com/images/I/51hKkar-qJL._SS40_.jpg', 'https://images-na.ssl-images-amazon.com/images/I/31r6xsSQ4cL._SS40_.jpg']\n",
            "B000CQIDHO 170\n",
            "B000CQIDHO $23.49 Stash Tea Strawberry Pomegranate Red Tea 18 Count Tea Bags in Foil (Pack of 6) Individual Red Tea Bags, Use in Teapots Mugs or Cups, Brew Hot Tea or Iced Tea ['https://images-na.ssl-images-amazon.com/images/I/51tHidF455L._SS40_.jpg', 'https://images-na.ssl-images-amazon.com/images/I/51IHs8jTC4L._SS40_.jpg', 'https://images-na.ssl-images-amazon.com/images/I/31ESF%2BlJxCL._SS40_.jpg', 'https://images-na.ssl-images-amazon.com/images/I/413LlJ7qB7L._SS40_.jpg']\n",
            "B0008IT4OM 154\n",
            "B0008IT4OM $12.95 Chocmod Truffettes de France Natural Truffles 2.2 lbs ['https://images-na.ssl-images-amazon.com/images/I/41rMMal-MDL._SS40_.jpg', 'https://images-na.ssl-images-amazon.com/images/I/517JsHfxVaL._SS40_.jpg', 'https://images-na.ssl-images-amazon.com/images/I/51vCq-wYDmL._SS40_.jpg']\n",
            "B003CK2BQG 206\n",
            "B003CK2BQG $11.77 Stash Tea Mojito Mint Green Tea & Matcha Blend 18 Count Tea Bags in Foil (Pack of 6) (Packaging May Vary) Individual Green Tea Bags for Use in Teapots Mugs or Cups, Brew Hot Tea or Iced Tea ['https://images-na.ssl-images-amazon.com/images/I/41nh2BPMjyL._SS40_.jpg', 'https://images-na.ssl-images-amazon.com/images/I/41OCbmvL3EL._SS40_.jpg', 'https://images-na.ssl-images-amazon.com/images/I/31DqJNZl94L._SS40_.jpg', 'https://images-na.ssl-images-amazon.com/images/I/31GYohGovcL._SS40_.jpg']\n",
            "B000ESLJ6C 139\n",
            "B000ESLJ6C $41.75 Pero Instant Natural Beverage, 7-Ounce Canisters (Pack of 6) ['https://images-na.ssl-images-amazon.com/images/I/51WcIPbAM-L._SS40_.jpg', 'https://images-na.ssl-images-amazon.com/images/I/51vcvgNfdcL._SS40_.jpg', 'https://images-na.ssl-images-amazon.com/images/I/31gcM0Nl2pL._SS40_.jpg']\n",
            "B000HDK0DC 271\n",
            "B000HDK0DC $27.49 YumEarth Organic Lollipops, Assorted Flavors, 5 Pound Bag ['https://images-na.ssl-images-amazon.com/images/I/5131aViQ64L._SS40_.jpg', 'https://images-na.ssl-images-amazon.com/images/I/516EtiPBpOL._SS40_.jpg', 'https://images-na.ssl-images-amazon.com/images/I/41rPCGvrD4L._SS40_.jpg', 'https://images-na.ssl-images-amazon.com/images/I/419kEICie9L._SS40_.jpg']\n",
            "B001EYUE5M 242\n",
            "B001EYUE5M $35.73 Green Mountain Coffee Breakfast Blend for Keurig Brewers, 24-Count K-Cups (Pack of 2) ['https://images-na.ssl-images-amazon.com/images/I/51Gfvs-BblL._SS40_.jpg']\n",
            "B005DFL4PM 158\n",
            "B005DFL4PM $19.99 Bell Plantation PB2 with Premium Chocolate, 16-Ounce ['https://images-na.ssl-images-amazon.com/images/I/51zDNGDYjkL._SS40_.jpg', 'https://images-na.ssl-images-amazon.com/images/I/31BJU58oYvL._SS40_.jpg', 'https://images-na.ssl-images-amazon.com/images/I/51eY3CRZtCL._SS40_.jpg']\n",
            "B001CWX7EG 147\n",
            "B001CWX7EG $44.99 Glutino Gluten Free Pretzel Sticks, 8-Ounce Bags (Pack of 12) ['https://images-na.ssl-images-amazon.com/images/I/51A7lZIH1mL._SS40_.jpg', 'https://images-na.ssl-images-amazon.com/images/I/31i0x36YbmL._SS40_.jpg', 'https://images-na.ssl-images-amazon.com/images/I/51x6yiKmoyL._SS40_.jpg', 'https://images-na.ssl-images-amazon.com/images/I/51phTb-MS7L._SS40_.jpg']\n",
            "B000DZDJ0K 139\n",
            "B000DZDJ0K $34.14 Pamela's Products Gluten Free Baking & Pancake Mix, 24-Ounce Packages (Pack of 6) ['https://images-na.ssl-images-amazon.com/images/I/51YjtlMru0L._SS40_.jpg', 'https://images-na.ssl-images-amazon.com/images/I/315A9zN7M2L._SS40_.jpg']\n",
            "B000CQBZOW 170\n",
            "B000CQBZOW $14.99 Stash Tea Wild Raspberry Hibiscus Herbal Tea 20 Count Tea Bags in Foil (Pack of 6) Individual Herbal Tea Bags for Use in Teapots Mugs or Cups, Brew Hot Tea or Iced Tea ['https://images-na.ssl-images-amazon.com/images/I/51UImhQsGKL._SS40_.jpg', 'https://images-na.ssl-images-amazon.com/images/I/51ZyZf44TGL._SS40_.jpg', 'https://images-na.ssl-images-amazon.com/images/I/313MSfszaYL._SS40_.jpg', 'https://images-na.ssl-images-amazon.com/images/I/51LPrmdW2OL._SS40_.jpg', 'https://images-na.ssl-images-amazon.com/images/I/410ETMyJIwL._SS40_.jpg']\n",
            "B004SRH2B6 456\n",
            "B004SRH2B6 $35.10 ZICO Pure Premium Coconut Water, Natural, 33.8 fl oz Container (Count of 6) ['https://images-na.ssl-images-amazon.com/images/I/41m7oNG5C5L._SS40_.jpg', 'https://images-na.ssl-images-amazon.com/images/I/41IbxtF7M8L._SS40_.jpg', 'https://images-na.ssl-images-amazon.com/images/I/41HKAvaE2hL._SS40_.jpg', 'https://images-na.ssl-images-amazon.com/images/I/315qkkPXySL._SS40_.jpg', 'https://images-na.ssl-images-amazon.com/images/I/3181EbTuRyL._SS40_.jpg', 'https://images-na.ssl-images-amazon.com/images/I/315s9sf-0wL._SS40_.jpg']\n",
            "B005GX00BK 192\n",
            "B005GX00BK $40.17 Lavazza Crema e Gusto Espresso 8.8oz(Pack of 6) ['https://images-na.ssl-images-amazon.com/images/I/51Ur6l%2BT6aL._SS40_.jpg', 'https://images-na.ssl-images-amazon.com/images/I/31hs8DL54jL._SS40_.jpg']\n",
            "B007TJGZ5E 172\n",
            "B007TJGZ5E $41.99 Green Mountain Coffee Roasters Nantucket Blend, Keurig Single-Serve K-Cup Pods, Medium Roast Coffee, 96 Count (Packaging May Vary) ['https://images-na.ssl-images-amazon.com/images/I/51rBT-HsiaL._SS40_.jpg', 'https://images-na.ssl-images-amazon.com/images/I/41XOBcNdY8L._SS40_.jpg', 'https://images-na.ssl-images-amazon.com/images/I/51yW8mu%2Bw-L._SS40_.jpg', 'https://images-na.ssl-images-amazon.com/images/I/51zwzKecrhL._SS40_.jpg', 'https://images-na.ssl-images-amazon.com/images/I/4166lb5M1tL._SS40_.jpg', 'https://images-na.ssl-images-amazon.com/images/I/61Ecj-N-hBL._SS40_.jpg']\n",
            "B008ZRKZSM 310\n",
            "B008ZRKZSM $28.17 Pb2 Powdered Peanut Butter - 6.5 Oz ['https://images-na.ssl-images-amazon.com/images/I/41LHDNAaKGL._SS40_.jpg', 'https://images-na.ssl-images-amazon.com/images/I/41pjul8gnGL._SS40_.jpg', 'https://images-na.ssl-images-amazon.com/images/I/415U3XNngpL._SS40_.jpg', 'https://images-na.ssl-images-amazon.com/images/I/312X3z9Ns8L._SS40_.jpg']\n",
            "B000CQG8KS 209\n",
            "B000CQG8KS $14.99 Stash Tea Peach Black Tea 20 Count Tea Bags in Foil (Pack of 6) Individual Black Tea Bags for Use in Teapots Mugs or Cups, Brew Hot Tea or Iced Tea ['https://images-na.ssl-images-amazon.com/images/I/71N4hJ1VWhL._SS40_.jpg', 'https://images-na.ssl-images-amazon.com/images/I/81cWJWeCCSL._SS40_.jpg', 'https://images-na.ssl-images-amazon.com/images/I/31hAgeLvrRL._SS40_.jpg', 'https://images-na.ssl-images-amazon.com/images/I/51D0NIn4hCL._SS40_.jpg']\n",
            "B000CQC05K 170\n",
            "B000CQC05K $15.71 Stash Tea Yumberry Blackcurrant Tea 20 Tea Bags in Foil (Pack of 6) Individual Black Tea Bags for Use in Teapots Mugs or Cups, Brew Hot Tea or Iced Tea ['https://images-na.ssl-images-amazon.com/images/I/512wrdEd2iL._SS40_.jpg', 'https://images-na.ssl-images-amazon.com/images/I/51ZvQQkR7pL._SS40_.jpg', 'https://images-na.ssl-images-amazon.com/images/I/31wDnye7ZzL._SS40_.jpg', 'https://images-na.ssl-images-amazon.com/images/I/41jNyx224AL._SS40_.jpg']\n",
            "B0058AMYTC 217\n",
            "B0058AMYTC $29.98 Kettle Brand Potato Chips, Jalapeno, Single-Serve 1 Ounce Bags (Pack of 72) ['https://images-na.ssl-images-amazon.com/images/I/41EB6djqBmL._SS40_.jpg', 'https://images-na.ssl-images-amazon.com/images/I/51m4INwISsL._SS40_.jpg', 'https://images-na.ssl-images-amazon.com/images/I/610uBLFR0QL._SS40_.jpg', 'https://images-na.ssl-images-amazon.com/images/I/51DbTsscHgL._SS40_.jpg', 'https://images-na.ssl-images-amazon.com/images/I/51OIrI24wQL._SS40_.jpg', 'https://images-na.ssl-images-amazon.com/images/I/41UyfYYdeXL._SS40_.jpg']\n",
            "B005HG9ESG 387\n",
            "B005HG9ESG $19.99 Essentia Water; 12, 1-Liter Bottles; Ionized Alkaline Bottled Water; Electrolytes for Taste; Better Rehydration; pH 9.5 or Higher; Pure Drinking Water; For the Doers, the Believers, the Overachievers ['https://images-na.ssl-images-amazon.com/images/I/41WWI5ELWEL._SS40_.jpg', 'https://images-na.ssl-images-amazon.com/images/I/41U-pmRileL._SS40_.jpg', 'https://images-na.ssl-images-amazon.com/images/I/31pP9nRMhEL._SS40_.jpg', 'https://images-na.ssl-images-amazon.com/images/I/31ctqpbgAYL._SS40_.jpg', 'https://images-na.ssl-images-amazon.com/images/I/51JDiK6aGcL._SS40_.jpg']\n",
            "B000GAT6NG 389\n",
            "B000GAT6NG $17.99 Nutiva Organic, Cold-Pressed, Unrefined, Virgin Coconut Oil from Fresh, non-GMO, Sustainably Farmed Coconuts, 54-ounce ['https://images-na.ssl-images-amazon.com/images/I/71dwzyJ588L._SS40_.jpg', 'https://images-na.ssl-images-amazon.com/images/I/71Eq1t2qZzL._SS40_.jpg', 'https://images-na.ssl-images-amazon.com/images/I/616z91XUKZL._SS40_.jpg', 'https://images-na.ssl-images-amazon.com/images/I/41mnHjnx2OL._SS40_.jpg', 'https://images-na.ssl-images-amazon.com/images/I/31zWugSTUqL._SS40_.jpg', 'https://images-na.ssl-images-amazon.com/images/I/41HBIV6t35L._SS40_PKmb-play-button-overlay-thumb_.jpg']\n",
            "B000CQIDHE 170\n",
            "B000CQIDHE $13.38 Stash Tea Licorice Spice Herbal Tea 20 Count Tea Bags in Foil (Pack of 6), Tea Bags Individually Wrapped in Foil (packaging may vary), Naturally Sweet Herbal Tisane, Zero Caffeine, Drink Hot or Iced ['https://images-na.ssl-images-amazon.com/images/I/41u%2BDw8d2VL._SS40_.jpg', 'https://images-na.ssl-images-amazon.com/images/I/51hcdIM1PfL._SS40_.jpg', 'https://images-na.ssl-images-amazon.com/images/I/312l8I6eENL._SS40_.jpg', 'https://images-na.ssl-images-amazon.com/images/I/51TG8SocdPL._SS40_.jpg']\n",
            "B000WB1YSE 157\n",
            "B000WB1YSE $19.60 Kirkland Ito En Matcha Blend Japanese Green Tea-100 ct 1.5g tea bags ['https://images-na.ssl-images-amazon.com/images/I/41JGayhHeML._SS40_.jpg', 'https://images-na.ssl-images-amazon.com/images/I/31qIHxIg5uL._SS40_.jpg', 'https://images-na.ssl-images-amazon.com/images/I/51dOae300vL._SS40_.jpg', 'https://images-na.ssl-images-amazon.com/images/I/31jKJUS1gOL._SS40_.jpg']\n",
            "B0012BUR8Q 170\n",
            "B0012BUR8Q $19.20 Stash Tea Acai Berry Herbal Tea 18 Count Tea Bags in Foil (Pack of 6) Individual Herbal Tea Bags for Use in Teapots Mugs or Cups, Brew Hot Tea or Iced Tea ['https://images-na.ssl-images-amazon.com/images/I/41K14PCle8L._SS40_.jpg', 'https://images-na.ssl-images-amazon.com/images/I/51SqK-y194L._SS40_.jpg', 'https://images-na.ssl-images-amazon.com/images/I/31coWt%2BezUL._SS40_.jpg', 'https://images-na.ssl-images-amazon.com/images/I/41B4qz7qPbL._SS40_.jpg']\n",
            "B0098WV8F2 215\n",
            "B0098WV8F2 $11.14 Bell Plantation PB2 Powdered Peanut Butter and PB2 with Premium Chocolate, 6.5 Ounce (Pack of 2) ['https://images-na.ssl-images-amazon.com/images/I/61Wh26WuSqL._SS40_.jpg', 'https://images-na.ssl-images-amazon.com/images/I/412eWpBw0YL._SS40_.jpg', 'https://images-na.ssl-images-amazon.com/images/I/51vI3bjuvdL._SS40_.jpg', 'https://images-na.ssl-images-amazon.com/images/I/31scapwxR2L._SS40_.jpg']\n",
            "B002AQP5MK 135\n",
            "B002AQP5MK $31.68 Betty Crocker Baking Mix, Gluten Free Brownie Mix, Chocolate, 16 Oz Box (Pack of 6) ['https://images-na.ssl-images-amazon.com/images/I/61b69AtaNQL._SS40_.jpg', 'https://images-na.ssl-images-amazon.com/images/I/51d0WHtpJ8L._SS40_.jpg', 'https://images-na.ssl-images-amazon.com/images/I/41wWd45tkVL._SS40_.jpg', 'https://images-na.ssl-images-amazon.com/images/I/41Q9nVoZ8mL._SS40_.jpg']\n",
            "B005GTWCTM 192\n",
            "B005GTWCTM $12.92 Lavazza 2 Pack Crema E Gusto Ground Coffee 8.8oz/250g Each ['https://images-na.ssl-images-amazon.com/images/I/513oz00umlL._SS40_.jpg']\n",
            "B001LG940E 343\n",
            "B001LG940E $31.53 The Switch Sparkling Juice, Black Cherry, 8- Fl. Oz Cans (Pack of 24) ['https://images-na.ssl-images-amazon.com/images/I/51paenF1vhL._SS40_.jpg', 'https://images-na.ssl-images-amazon.com/images/I/51WbyOVb7GL._SS40_.jpg', 'https://images-na.ssl-images-amazon.com/images/I/51jxv59rtpL._SS40_.jpg', 'https://images-na.ssl-images-amazon.com/images/I/51feV1oOV1L._SS40_.jpg', 'https://images-na.ssl-images-amazon.com/images/I/51Ri9LjNcnL._SS40_.jpg', 'https://images-na.ssl-images-amazon.com/images/I/51aKv%2Bvv4mL._SS40_.jpg']\n",
            "B0033HPPIO 159\n",
            "B0033HPPIO $14.07 Donut House Collection Coffee Chocolate Glazed Donut Keurig Single-Serve K-Cup Pods, Light Roast Coffee, 24 Count ['https://images-na.ssl-images-amazon.com/images/I/517N16Ihg7L._SS40_.jpg', 'https://images-na.ssl-images-amazon.com/images/I/51L-rRxkalL._SS40_.jpg', 'https://images-na.ssl-images-amazon.com/images/I/41EvWROMQGL._SS40_.jpg', 'https://images-na.ssl-images-amazon.com/images/I/512z4u14B-L._SS40_.jpg', 'https://images-na.ssl-images-amazon.com/images/I/513K%2BTmCrKL._SS40_.jpg', 'https://images-na.ssl-images-amazon.com/images/I/41u3aHV3%2BpL._SS40_.jpg']\n",
            "[]\n"
          ],
          "name": "stdout"
        }
      ]
    },
    {
      "cell_type": "code",
      "metadata": {
        "id": "Ct62io0lLAEJ",
        "colab_type": "code",
        "colab": {
          "base_uri": "https://localhost:8080/",
          "height": 918
        },
        "outputId": "82d9e95d-5f1a-4f53-bd77-553c97d03bfe"
      },
      "source": [
        "test_pids = ['B000CQE3NM', 'B001L4JH5I', 'B003EM7J9Q', 'B000CQID2Y', 'B005K4Q1T0', 'B000DZFMEQ', 'B001GL6GBE', 'B003CK7O36', 'B003QNJYXM', 'B000ZSZ5S4', 'B001EO5Y8Y', 'B000CQC08C', 'B0039ZOZ86', 'B005K4Q37A', 'B000REI2X6', 'B000PDY3P0', 'B005ZBZLSU', 'B002GJ9JY6', 'B006N3HYYS', 'B000CQIDHY', 'B001E5E3JY', 'B000F6SNPS', 'B005ZBZLT4', 'B000CQIDHO', 'B0008IT4OM', 'B003CK2BQG', 'B000ESLJ6C', 'B000HDK0DC', 'B001EYUE5M', 'B005DFL4PM', 'B001CWX7EG', 'B000DZDJ0K', 'B000CQBZOW', 'B004SRH2B6', 'B005GX00BK', 'B007TJGZ5E', 'B008ZRKZSM', 'B000CQG8KS', 'B000CQC05K', 'B0058AMYTC', 'B005HG9ESG', 'B000GAT6NG', 'B000CQIDHE', 'B000WB1YSE', 'B0012BUR8Q', 'B0098WV8F2', 'B002AQP5MK', 'B005GTWCTM', 'B001LG940E', 'B0033HPPIO']\n",
        "\n",
        "meta_df = pd.read_json('data.json')\n",
        "\n",
        "meta_data_json = pd.DataFrame(columns = ['asin', 'title', 'price', 'image'])\n",
        "\n",
        "for pid in test_pids:\n",
        "  temp_df = meta_df.loc[meta_df['asin'] == pid]\n",
        "  meta_data_json = meta_data_json.append({'asin':temp_df['asin'].values[0],'title': temp_df['title'].values[0], 'price': temp_df['price'].values[0], 'image': temp_df['image'].values[0]}, ignore_index=True)\n",
        "\n",
        "print(meta_data_json)"
      ],
      "execution_count": 69,
      "outputs": [
        {
          "output_type": "stream",
          "text": [
            "          asin  ...                                              image\n",
            "0   B000CQE3NM  ...  [https://images-na.ssl-images-amazon.com/image...\n",
            "1   B001L4JH5I  ...  [https://images-na.ssl-images-amazon.com/image...\n",
            "2   B003EM7J9Q  ...  [https://images-na.ssl-images-amazon.com/image...\n",
            "3   B000CQID2Y  ...  [https://images-na.ssl-images-amazon.com/image...\n",
            "4   B005K4Q1T0  ...  [https://images-na.ssl-images-amazon.com/image...\n",
            "5   B000DZFMEQ  ...  [https://images-na.ssl-images-amazon.com/image...\n",
            "6   B001GL6GBE  ...  [https://images-na.ssl-images-amazon.com/image...\n",
            "7   B003CK7O36  ...  [https://images-na.ssl-images-amazon.com/image...\n",
            "8   B003QNJYXM  ...  [https://images-na.ssl-images-amazon.com/image...\n",
            "9   B000ZSZ5S4  ...  [https://images-na.ssl-images-amazon.com/image...\n",
            "10  B001EO5Y8Y  ...  [https://images-na.ssl-images-amazon.com/image...\n",
            "11  B000CQC08C  ...  [https://images-na.ssl-images-amazon.com/image...\n",
            "12  B0039ZOZ86  ...  [https://images-na.ssl-images-amazon.com/image...\n",
            "13  B005K4Q37A  ...  [https://images-na.ssl-images-amazon.com/image...\n",
            "14  B000REI2X6  ...  [https://images-na.ssl-images-amazon.com/image...\n",
            "15  B000PDY3P0  ...  [https://images-na.ssl-images-amazon.com/image...\n",
            "16  B005ZBZLSU  ...  [https://images-na.ssl-images-amazon.com/image...\n",
            "17  B002GJ9JY6  ...  [https://images-na.ssl-images-amazon.com/image...\n",
            "18  B006N3HYYS  ...  [https://images-na.ssl-images-amazon.com/image...\n",
            "19  B000CQIDHY  ...  [https://images-na.ssl-images-amazon.com/image...\n",
            "20  B001E5E3JY  ...  [https://images-na.ssl-images-amazon.com/image...\n",
            "21  B000F6SNPS  ...  [https://images-na.ssl-images-amazon.com/image...\n",
            "22  B005ZBZLT4  ...  [https://images-na.ssl-images-amazon.com/image...\n",
            "23  B000CQIDHO  ...  [https://images-na.ssl-images-amazon.com/image...\n",
            "24  B0008IT4OM  ...  [https://images-na.ssl-images-amazon.com/image...\n",
            "25  B003CK2BQG  ...  [https://images-na.ssl-images-amazon.com/image...\n",
            "26  B000ESLJ6C  ...  [https://images-na.ssl-images-amazon.com/image...\n",
            "27  B000HDK0DC  ...  [https://images-na.ssl-images-amazon.com/image...\n",
            "28  B001EYUE5M  ...  [https://images-na.ssl-images-amazon.com/image...\n",
            "29  B005DFL4PM  ...  [https://images-na.ssl-images-amazon.com/image...\n",
            "30  B001CWX7EG  ...  [https://images-na.ssl-images-amazon.com/image...\n",
            "31  B000DZDJ0K  ...  [https://images-na.ssl-images-amazon.com/image...\n",
            "32  B000CQBZOW  ...  [https://images-na.ssl-images-amazon.com/image...\n",
            "33  B004SRH2B6  ...  [https://images-na.ssl-images-amazon.com/image...\n",
            "34  B005GX00BK  ...  [https://images-na.ssl-images-amazon.com/image...\n",
            "35  B007TJGZ5E  ...  [https://images-na.ssl-images-amazon.com/image...\n",
            "36  B008ZRKZSM  ...  [https://images-na.ssl-images-amazon.com/image...\n",
            "37  B000CQG8KS  ...  [https://images-na.ssl-images-amazon.com/image...\n",
            "38  B000CQC05K  ...  [https://images-na.ssl-images-amazon.com/image...\n",
            "39  B0058AMYTC  ...  [https://images-na.ssl-images-amazon.com/image...\n",
            "40  B005HG9ESG  ...  [https://images-na.ssl-images-amazon.com/image...\n",
            "41  B000GAT6NG  ...  [https://images-na.ssl-images-amazon.com/image...\n",
            "42  B000CQIDHE  ...  [https://images-na.ssl-images-amazon.com/image...\n",
            "43  B000WB1YSE  ...  [https://images-na.ssl-images-amazon.com/image...\n",
            "44  B0012BUR8Q  ...  [https://images-na.ssl-images-amazon.com/image...\n",
            "45  B0098WV8F2  ...  [https://images-na.ssl-images-amazon.com/image...\n",
            "46  B002AQP5MK  ...  [https://images-na.ssl-images-amazon.com/image...\n",
            "47  B005GTWCTM  ...  [https://images-na.ssl-images-amazon.com/image...\n",
            "48  B001LG940E  ...  [https://images-na.ssl-images-amazon.com/image...\n",
            "49  B0033HPPIO  ...  [https://images-na.ssl-images-amazon.com/image...\n",
            "\n",
            "[50 rows x 4 columns]\n"
          ],
          "name": "stdout"
        }
      ]
    },
    {
      "cell_type": "code",
      "metadata": {
        "id": "AQCbDYp2NoBw",
        "colab_type": "code",
        "colab": {}
      },
      "source": [
        "meta_data_json.to_csv(\"product_details.csv\")"
      ],
      "execution_count": 0,
      "outputs": []
    },
    {
      "cell_type": "code",
      "metadata": {
        "id": "drtwCQH-TIcn",
        "colab_type": "code",
        "colab": {
          "base_uri": "https://localhost:8080/",
          "height": 918
        },
        "outputId": "3361656f-e882-4596-b2ff-ca480947827c"
      },
      "source": [
        "mdf = pd.read_csv(\"product_details.csv\")\n",
        "print(mdf)"
      ],
      "execution_count": 71,
      "outputs": [
        {
          "output_type": "stream",
          "text": [
            "    Unnamed: 0  ...                                              image\n",
            "0            0  ...  https://images-na.ssl-images-amazon.com/images...\n",
            "1            1  ...  https://images-na.ssl-images-amazon.com/images...\n",
            "2            2  ...  https://images-na.ssl-images-amazon.com/images...\n",
            "3            3  ...  https://images-na.ssl-images-amazon.com/images...\n",
            "4            4  ...  https://images-na.ssl-images-amazon.com/images...\n",
            "5            5  ...  https://images-na.ssl-images-amazon.com/images...\n",
            "6            6  ...  https://images-na.ssl-images-amazon.com/images...\n",
            "7            7  ...  https://images-na.ssl-images-amazon.com/images...\n",
            "8            8  ...  https://images-na.ssl-images-amazon.com/images...\n",
            "9            9  ...  https://images-na.ssl-images-amazon.com/images...\n",
            "10          10  ...  https://images-na.ssl-images-amazon.com/images...\n",
            "11          11  ...  https://images-na.ssl-images-amazon.com/images...\n",
            "12          12  ...  https://images-na.ssl-images-amazon.com/images...\n",
            "13          13  ...  https://images-na.ssl-images-amazon.com/images...\n",
            "14          14  ...  https://images-na.ssl-images-amazon.com/images...\n",
            "15          15  ...  https://images-na.ssl-images-amazon.com/images...\n",
            "16          16  ...  https://images-na.ssl-images-amazon.com/images...\n",
            "17          17  ...  https://images-na.ssl-images-amazon.com/images...\n",
            "18          18  ...  https://images-na.ssl-images-amazon.com/images...\n",
            "19          19  ...  https://images-na.ssl-images-amazon.com/images...\n",
            "20          20  ...  https://images-na.ssl-images-amazon.com/images...\n",
            "21          21  ...  https://images-na.ssl-images-amazon.com/images...\n",
            "22          22  ...  https://images-na.ssl-images-amazon.com/images...\n",
            "23          23  ...  https://images-na.ssl-images-amazon.com/images...\n",
            "24          24  ...  https://images-na.ssl-images-amazon.com/images...\n",
            "25          25  ...  https://images-na.ssl-images-amazon.com/images...\n",
            "26          26  ...  https://images-na.ssl-images-amazon.com/images...\n",
            "27          27  ...  https://images-na.ssl-images-amazon.com/images...\n",
            "28          28  ...  https://images-na.ssl-images-amazon.com/images...\n",
            "29          29  ...  https://images-na.ssl-images-amazon.com/images...\n",
            "30          30  ...  https://images-na.ssl-images-amazon.com/images...\n",
            "31          31  ...  https://images-na.ssl-images-amazon.com/images...\n",
            "32          32  ...  https://images-na.ssl-images-amazon.com/images...\n",
            "33          33  ...  https://images-na.ssl-images-amazon.com/images...\n",
            "34          34  ...  https://images-na.ssl-images-amazon.com/images...\n",
            "35          35  ...  https://images-na.ssl-images-amazon.com/images...\n",
            "36          36  ...  https://images-na.ssl-images-amazon.com/images...\n",
            "37          37  ...  https://images-na.ssl-images-amazon.com/images...\n",
            "38          38  ...  https://images-na.ssl-images-amazon.com/images...\n",
            "39          39  ...  https://images-na.ssl-images-amazon.com/images...\n",
            "40          40  ...  https://images-na.ssl-images-amazon.com/images...\n",
            "41          41  ...  https://images-na.ssl-images-amazon.com/images...\n",
            "42          42  ...  https://images-na.ssl-images-amazon.com/images...\n",
            "43          43  ...  https://images-na.ssl-images-amazon.com/images...\n",
            "44          44  ...  https://images-na.ssl-images-amazon.com/images...\n",
            "45          45  ...  https://images-na.ssl-images-amazon.com/images...\n",
            "46          46  ...  https://images-na.ssl-images-amazon.com/images...\n",
            "47          47  ...  https://images-na.ssl-images-amazon.com/images...\n",
            "48          48  ...  https://images-na.ssl-images-amazon.com/images...\n",
            "49          49  ...  https://images-na.ssl-images-amazon.com/images...\n",
            "\n",
            "[50 rows x 5 columns]\n"
          ],
          "name": "stdout"
        }
      ]
    },
    {
      "cell_type": "code",
      "metadata": {
        "id": "R2dcAp_QUYFM",
        "colab_type": "code",
        "colab": {}
      },
      "source": [
        "mdf.to_json('product_details.json', orient='records')"
      ],
      "execution_count": 0,
      "outputs": []
    }
  ]
}